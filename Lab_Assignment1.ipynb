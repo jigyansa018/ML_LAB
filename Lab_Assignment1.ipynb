{
 "cells": [
  {
   "cell_type": "code",
   "execution_count": 5,
   "id": "3657ae62",
   "metadata": {},
   "outputs": [
    {
     "name": "stdout",
     "output_type": "stream",
     "text": [
      "This is my first Python Program\n"
     ]
    }
   ],
   "source": [
    "#Q1\n",
    "print(\"This is my first Python Program\")"
   ]
  },
  {
   "cell_type": "code",
   "execution_count": 4,
   "id": "67024eab",
   "metadata": {},
   "outputs": [
    {
     "name": "stdout",
     "output_type": "stream",
     "text": [
      "Enter the number89\n",
      "The number is odd\n"
     ]
    }
   ],
   "source": [
    "#Q2\n",
    "num = int(input(\"Enter the number\"))\n",
    "if(num%2 == 0):\n",
    "    print(\"The number is even\")\n",
    "else:\n",
    "    print(\"The number is odd\")"
   ]
  },
  {
   "cell_type": "code",
   "execution_count": 3,
   "id": "d1cfa2c6",
   "metadata": {},
   "outputs": [
    {
     "name": "stdout",
     "output_type": "stream",
     "text": [
      "Jigyansa\n",
      "Jigyansa\n",
      "Jigyansa\n",
      "Jigyansa\n",
      "Jigyansa\n",
      "Jigyansa\n",
      "Jigyansa\n",
      "Jigyansa\n",
      "Jigyansa\n",
      "Jigyansa\n"
     ]
    }
   ],
   "source": [
    "#Q3\n",
    "var = 1\n",
    "while(var<=10):\n",
    "    print(\"Jigyansa\")\n",
    "    var = var+1"
   ]
  },
  {
   "cell_type": "code",
   "execution_count": 2,
   "id": "939639f0",
   "metadata": {},
   "outputs": [
    {
     "name": "stdout",
     "output_type": "stream",
     "text": [
      "Enter a number:\n",
      "3\n",
      "It is a prime number\n"
     ]
    }
   ],
   "source": [
    "#Q4.\n",
    "x = int(input(\"Enter a number:\\n\"))\n",
    "count =0\n",
    "if (x == 0 or x== 1):\n",
    "    print(\"Neither prime nor composite\")\n",
    "else:\n",
    "    while(x<0):\n",
    "        if(x%2 == 0):\n",
    "            count =count +1\n",
    "            break\n",
    "        x = x-1\n",
    "    if(count>0):\n",
    "        print(\"It is a composite number\")\n",
    "    else:\n",
    "        print(\"It is a prime number\")"
   ]
  },
  {
   "cell_type": "code",
   "execution_count": 17,
   "id": "200b96e2",
   "metadata": {},
   "outputs": [
    {
     "name": "stdout",
     "output_type": "stream",
     "text": [
      "    *\n",
      "   ***\n",
      "  *****\n",
      " *******\n",
      "*********\n"
     ]
    }
   ],
   "source": [
    "#Q12\n",
    "for i in range(1 , 6):\n",
    "    for k in range(1, 6 - i):\n",
    "        print(\" \", end=\"\")\n",
    "    for j in range(1,(2*i-1)  + 1):\n",
    "        print(\"*\", end=\"\")\n",
    "    print()  \n",
    "\n"
   ]
  },
  {
   "cell_type": "code",
   "execution_count": 1,
   "id": "51041ba5",
   "metadata": {},
   "outputs": [
    {
     "name": "stdout",
     "output_type": "stream",
     "text": [
      "Enter the number of terms:\n",
      "5\n",
      "sin( 90 ) is:  1.0000034913560685\n"
     ]
    }
   ],
   "source": [
    "#Q9.the sin(x) series\n",
    "n = int(input(\"Enter the number of terms:\\n\"))\n",
    "degree = 90\n",
    "x = 3.141/180.0 * degree  # Convert degree to radians\n",
    "\n",
    "term = x\n",
    "sum = term\n",
    "i = 1\n",
    "\n",
    "while i < n:\n",
    "    term = (-1 * term * x * x) / (2 * i * (2 * i + 1))\n",
    "    sum += term\n",
    "    i += 1\n",
    "\n",
    "print(\"sin(\", degree, \") is: \", sum)\n"
   ]
  },
  {
   "cell_type": "code",
   "execution_count": 2,
   "id": "9b9168be",
   "metadata": {},
   "outputs": [
    {
     "name": "stdout",
     "output_type": "stream",
     "text": [
      "Enter a number: 4\n",
      "Prime factors of 4: 2 2 "
     ]
    }
   ],
   "source": [
    "#Q6.Write a Python program which will print prime factors of a number.\n",
    "n = int(input(\"Enter a number: \"))\n",
    "factor = 2\n",
    "\n",
    "print(f\"Prime factors of {n}: \", end=\"\")\n",
    "\n",
    "while n > 1:\n",
    "    if n % factor == 0:\n",
    "        print(factor, end=\" \")\n",
    "        n //= factor\n",
    "    else:\n",
    "        factor += 1\n"
   ]
  },
  {
   "cell_type": "code",
   "execution_count": 1,
   "id": "cea5e46f",
   "metadata": {},
   "outputs": [
    {
     "name": "stdout",
     "output_type": "stream",
     "text": [
      "Enter the no:\n",
      "3\n",
      "The fcatorial of  3 is 1\n",
      "The fcatorial of  3 is 2\n",
      "The fcatorial of  3 is 6\n"
     ]
    }
   ],
   "source": [
    "#Q5.factorial of a num\n",
    "num = int (input(\"Enter the no:\\n\"))\n",
    "fact =1\n",
    "a=1\n",
    "while a<=num:\n",
    "    fact = fact * a\n",
    "    a=a+1\n",
    "    print(\"The factorial of \",num,\"is\",fact)"
   ]
  },
  {
   "cell_type": "code",
   "execution_count": 11,
   "id": "44206202",
   "metadata": {},
   "outputs": [
    {
     "name": "stdout",
     "output_type": "stream",
     "text": [
      "Enter first number\n",
      "5\n",
      "Enter second number\n",
      "10\n",
      "The GCD of these two numbers is 5\n",
      "Enter first number\n",
      "5\n",
      "Enter second number\n",
      "8\n",
      "The LCM of 5 and 8 is 40\n"
     ]
    }
   ],
   "source": [
    "#Q7.GCD and LCM of two inputted numbers\n",
    "#GCD\n",
    "num1 = int(input(\"Enter first number\\n\"))\n",
    "num2 = int(input(\"Enter second number\\n\"))\n",
    "\n",
    "\n",
    "if num2 > num1:\n",
    "    min_num = num1\n",
    "else:\n",
    "    min_num = num2\n",
    "\n",
    "\n",
    "for i in range(1, min_num + 1):\n",
    "    if (num1 % i == 0) and (num2 % i == 0):\n",
    "        GCD = i\n",
    "\n",
    "print(f\"The GCD of these two numbers is {GCD}\")\n",
    "\n",
    "#LCM\n",
    "a = int(input(\"Enter first number\\n\"))\n",
    "b = int(input(\"Enter second number\\n\"))\n",
    "\n",
    "maxNum = max(a, b)  \n",
    "\n",
    "while True:\n",
    "    if maxNum % a == 0 and maxNum % b == 0:\n",
    "        \n",
    "        print(f\"The LCM of {a} and {b} is {maxNum}\")\n",
    "        break  \n",
    "    maxNum += 1  \n",
    "\n"
   ]
  },
  {
   "cell_type": "code",
   "execution_count": 8,
   "id": "512fa4f4",
   "metadata": {},
   "outputs": [
    {
     "name": "stdout",
     "output_type": "stream",
     "text": [
      "Enter Limit:5\n",
      "Enter Power of e:2\n",
      "3.0\n",
      "5.0\n",
      "6.33\n",
      "7.0\n",
      "7.27\n"
     ]
    }
   ],
   "source": [
    "#8.Exponential series.e^x = 1+ X + X^2/2! + X^3/3! + ……\n",
    "n=int(input(\"Enter Limit:\"))\n",
    "x=float(input(\"Enter Power of e:\"))\n",
    "pow=1 # This variable stores power of x (e.g.x^2)\n",
    "fact=1 #This variable stores the factorial value (e.g.2!)\n",
    "sum=1 # This is the sum of the series (the result).\n",
    "      #It starts at 1 because the series starts with 1.\n",
    "for i in range(1,n+1):\n",
    "    pow=pow*x\n",
    "    fact=fact*i\n",
    "    #print(sum)\n",
    "    sum=sum+(pow/fact)\n",
    "    print(round(sum,2))\n",
    "    #rounded to two decimal places, at each step of the loop. \n"
   ]
  },
  {
   "cell_type": "code",
   "execution_count": 1,
   "id": "9e9a7cc3",
   "metadata": {},
   "outputs": [
    {
     "name": "stdout",
     "output_type": "stream",
     "text": [
      "Enter the starting number (must be at least 37): 39\n",
      "Enter the ending number (must be at most 129): 127\n",
      "The number of prime numbers between 39 and 127 is: 19\n"
     ]
    }
   ],
   "source": [
    "#10 primes between 37 and 129\n",
    "start = int(input(\"Enter the starting number (must be at least 37): \"))\n",
    "end = int(input(\"Enter the ending number (must be at most 129): \"))\n",
    "\n",
    "if start < 37 or end > 129 or start > end:\n",
    "    print(\"Please enter valid numbers within the range 37 to 129.\")\n",
    "else:\n",
    "    prime_count = 0\n",
    "\n",
    "    for num in range(start, end + 1):\n",
    "        if num > 1:  # Prime numbers are greater than 1\n",
    "            is_prime = True\n",
    "            for i in range(2, int(num ** 0.5) + 1):\n",
    "                if num % i == 0:\n",
    "                    is_prime = False\n",
    "                    break\n",
    "            if is_prime:\n",
    "                prime_count += 1\n",
    "\n",
    "    print(f\"The number of prime numbers between {start} and {end} is: {prime_count}\")\n"
   ]
  },
  {
   "cell_type": "code",
   "execution_count": 7,
   "id": "725a633f",
   "metadata": {},
   "outputs": [
    {
     "name": "stdout",
     "output_type": "stream",
     "text": [
      "Enter number of rows needed: 5\n",
      "1\n",
      "12\n",
      "123\n",
      "1234\n",
      "12345\n"
     ]
    }
   ],
   "source": [
    "#Q11\n",
    "n = int(input(\"Enter number of rows needed: \"))\n",
    "for i in range(n):\n",
    "    for j in range(i + 1):\n",
    "        print(j + 1, end= \"\") # Print numbers in the same row\n",
    "    print()  # Move to the next line after each row is printed"
   ]
  },
  {
   "cell_type": "code",
   "execution_count": 12,
   "id": "89d342d5",
   "metadata": {},
   "outputs": [
    {
     "name": "stdout",
     "output_type": "stream",
     "text": [
      "number1: 12\n",
      "lower limit: 10\n",
      "upper limit: 20\n",
      "11\n",
      "13\n",
      "17\n",
      "19\n"
     ]
    }
   ],
   "source": [
    "from math import gcd\n",
    "\n",
    "num1 = int(input(\"number1: \"))\n",
    "lower = int(input(\"lower limit: \"))\n",
    "upper = int(input(\"upper limit: \"))\n",
    "\n",
    "for i in range(lower, upper + 1):\n",
    "    if gcd(num1, i) == 1:\n",
    "        print(i)\n"
   ]
  },
  {
   "cell_type": "code",
   "execution_count": null,
   "id": "0ee32be0",
   "metadata": {},
   "outputs": [],
   "source": [
    "#Q14.\n",
    "import math\n",
    "\n",
    "N = int(input(\"Enter the number N: \"))\n",
    "count = 0\n",
    "\n",
    "for a in range(1, N + 1):\n",
    "    if N % a == 0:\n",
    "        b = N // a\n",
    "        if math.gcd(a, b) == 1:\n",
    "            count += 1\n",
    "\n",
    "print(\"Number of coprime pairs (a, b) where a * b = \", N, \"is:\", count)"
   ]
  },
  {
   "cell_type": "code",
   "execution_count": null,
   "id": "0dca583e",
   "metadata": {},
   "outputs": [],
   "source": [
    "#Q15.reverse\n",
    "num=input(\"Enter the number: \")\n",
    "num_reversed=num[::-1] #string[start:stop:step]\n",
    "print(num_reversed)\n"
   ]
  },
  {
   "cell_type": "code",
   "execution_count": null,
   "id": "ab1626af",
   "metadata": {},
   "outputs": [],
   "source": []
  }
 ],
 "metadata": {
  "kernelspec": {
   "display_name": "Python 3 (ipykernel)",
   "language": "python",
   "name": "python3"
  },
  "language_info": {
   "codemirror_mode": {
    "name": "ipython",
    "version": 3
   },
   "file_extension": ".py",
   "mimetype": "text/x-python",
   "name": "python",
   "nbconvert_exporter": "python",
   "pygments_lexer": "ipython3",
   "version": "3.9.12"
  }
 },
 "nbformat": 4,
 "nbformat_minor": 5
}
