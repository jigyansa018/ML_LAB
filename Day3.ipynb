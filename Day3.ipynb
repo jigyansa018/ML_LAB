{
 "cells": [
  {
   "cell_type": "code",
   "execution_count": 1,
   "id": "32c4a0c5",
   "metadata": {
    "scrolled": false
   },
   "outputs": [
    {
     "name": "stdout",
     "output_type": "stream",
     "text": [
      "Help on class list in module builtins:\n",
      "\n",
      "class list(object)\n",
      " |  list(iterable=(), /)\n",
      " |  \n",
      " |  Built-in mutable sequence.\n",
      " |  \n",
      " |  If no argument is given, the constructor creates a new empty list.\n",
      " |  The argument must be an iterable if specified.\n",
      " |  \n",
      " |  Methods defined here:\n",
      " |  \n",
      " |  __add__(self, value, /)\n",
      " |      Return self+value.\n",
      " |  \n",
      " |  __contains__(self, key, /)\n",
      " |      Return key in self.\n",
      " |  \n",
      " |  __delitem__(self, key, /)\n",
      " |      Delete self[key].\n",
      " |  \n",
      " |  __eq__(self, value, /)\n",
      " |      Return self==value.\n",
      " |  \n",
      " |  __ge__(self, value, /)\n",
      " |      Return self>=value.\n",
      " |  \n",
      " |  __getattribute__(self, name, /)\n",
      " |      Return getattr(self, name).\n",
      " |  \n",
      " |  __getitem__(...)\n",
      " |      x.__getitem__(y) <==> x[y]\n",
      " |  \n",
      " |  __gt__(self, value, /)\n",
      " |      Return self>value.\n",
      " |  \n",
      " |  __iadd__(self, value, /)\n",
      " |      Implement self+=value.\n",
      " |  \n",
      " |  __imul__(self, value, /)\n",
      " |      Implement self*=value.\n",
      " |  \n",
      " |  __init__(self, /, *args, **kwargs)\n",
      " |      Initialize self.  See help(type(self)) for accurate signature.\n",
      " |  \n",
      " |  __iter__(self, /)\n",
      " |      Implement iter(self).\n",
      " |  \n",
      " |  __le__(self, value, /)\n",
      " |      Return self<=value.\n",
      " |  \n",
      " |  __len__(self, /)\n",
      " |      Return len(self).\n",
      " |  \n",
      " |  __lt__(self, value, /)\n",
      " |      Return self<value.\n",
      " |  \n",
      " |  __mul__(self, value, /)\n",
      " |      Return self*value.\n",
      " |  \n",
      " |  __ne__(self, value, /)\n",
      " |      Return self!=value.\n",
      " |  \n",
      " |  __repr__(self, /)\n",
      " |      Return repr(self).\n",
      " |  \n",
      " |  __reversed__(self, /)\n",
      " |      Return a reverse iterator over the list.\n",
      " |  \n",
      " |  __rmul__(self, value, /)\n",
      " |      Return value*self.\n",
      " |  \n",
      " |  __setitem__(self, key, value, /)\n",
      " |      Set self[key] to value.\n",
      " |  \n",
      " |  __sizeof__(self, /)\n",
      " |      Return the size of the list in memory, in bytes.\n",
      " |  \n",
      " |  append(self, object, /)\n",
      " |      Append object to the end of the list.\n",
      " |  \n",
      " |  clear(self, /)\n",
      " |      Remove all items from list.\n",
      " |  \n",
      " |  copy(self, /)\n",
      " |      Return a shallow copy of the list.\n",
      " |  \n",
      " |  count(self, value, /)\n",
      " |      Return number of occurrences of value.\n",
      " |  \n",
      " |  extend(self, iterable, /)\n",
      " |      Extend list by appending elements from the iterable.\n",
      " |  \n",
      " |  index(self, value, start=0, stop=9223372036854775807, /)\n",
      " |      Return first index of value.\n",
      " |      \n",
      " |      Raises ValueError if the value is not present.\n",
      " |  \n",
      " |  insert(self, index, object, /)\n",
      " |      Insert object before index.\n",
      " |  \n",
      " |  pop(self, index=-1, /)\n",
      " |      Remove and return item at index (default last).\n",
      " |      \n",
      " |      Raises IndexError if list is empty or index is out of range.\n",
      " |  \n",
      " |  remove(self, value, /)\n",
      " |      Remove first occurrence of value.\n",
      " |      \n",
      " |      Raises ValueError if the value is not present.\n",
      " |  \n",
      " |  reverse(self, /)\n",
      " |      Reverse *IN PLACE*.\n",
      " |  \n",
      " |  sort(self, /, *, key=None, reverse=False)\n",
      " |      Sort the list in ascending order and return None.\n",
      " |      \n",
      " |      The sort is in-place (i.e. the list itself is modified) and stable (i.e. the\n",
      " |      order of two equal elements is maintained).\n",
      " |      \n",
      " |      If a key function is given, apply it once to each list item and sort them,\n",
      " |      ascending or descending, according to their function values.\n",
      " |      \n",
      " |      The reverse flag can be set to sort in descending order.\n",
      " |  \n",
      " |  ----------------------------------------------------------------------\n",
      " |  Class methods defined here:\n",
      " |  \n",
      " |  __class_getitem__(...) from builtins.type\n",
      " |      See PEP 585\n",
      " |  \n",
      " |  ----------------------------------------------------------------------\n",
      " |  Static methods defined here:\n",
      " |  \n",
      " |  __new__(*args, **kwargs) from builtins.type\n",
      " |      Create and return a new object.  See help(type) for accurate signature.\n",
      " |  \n",
      " |  ----------------------------------------------------------------------\n",
      " |  Data and other attributes defined here:\n",
      " |  \n",
      " |  __hash__ = None\n",
      "\n"
     ]
    }
   ],
   "source": [
    "help(list)"
   ]
  },
  {
   "cell_type": "code",
   "execution_count": 3,
   "id": "db007963",
   "metadata": {},
   "outputs": [
    {
     "name": "stdout",
     "output_type": "stream",
     "text": [
      "4\n"
     ]
    }
   ],
   "source": [
    "l=[1,2,3]\n",
    "l.append([22,33,44])\n",
    "print(len(l))"
   ]
  },
  {
   "cell_type": "code",
   "execution_count": 5,
   "id": "e49eec0d",
   "metadata": {},
   "outputs": [],
   "source": [
    "l.clear()\n",
    "#clear the list "
   ]
  },
  {
   "cell_type": "code",
   "execution_count": 6,
   "id": "2d7f7db0",
   "metadata": {},
   "outputs": [
    {
     "name": "stdout",
     "output_type": "stream",
     "text": [
      "[]\n"
     ]
    }
   ],
   "source": [
    "print(l)"
   ]
  },
  {
   "cell_type": "code",
   "execution_count": 11,
   "id": "945c6e30",
   "metadata": {},
   "outputs": [
    {
     "name": "stdout",
     "output_type": "stream",
     "text": [
      "[11, 22, 33, 11, 22, 33]\n"
     ]
    }
   ],
   "source": [
    "#append and extend in list\n",
    "l=[1,2,3]\n",
    "li=[11,22,33]\n",
    "li.extend(li)\n",
    "print(li)"
   ]
  },
  {
   "cell_type": "code",
   "execution_count": 12,
   "id": "e1a6c490",
   "metadata": {},
   "outputs": [
    {
     "ename": "SyntaxError",
     "evalue": "invalid syntax (1900541966.py, line 2)",
     "output_type": "error",
     "traceback": [
      "\u001b[1;36m  Input \u001b[1;32mIn [12]\u001b[1;36m\u001b[0m\n\u001b[1;33m    l=\u001b[0m\n\u001b[1;37m      ^\u001b[0m\n\u001b[1;31mSyntaxError\u001b[0m\u001b[1;31m:\u001b[0m invalid syntax\n"
     ]
    }
   ],
   "source": [
    "#WAP IN PYTHON PROGRAM MAKE REVERSE IN DESECNDING ORDER\n",
    "l="
   ]
  },
  {
   "cell_type": "code",
   "execution_count": 25,
   "id": "f91a773d",
   "metadata": {},
   "outputs": [
    {
     "name": "stdout",
     "output_type": "stream",
     "text": [
      "11 22 33 \n",
      "44 55 66 \n",
      "77 88 99 \n"
     ]
    }
   ],
   "source": [
    "#LIST OF LIST\n",
    "myList=[[11,22,33],[44,55,66],[77,88,99]]\n",
    "\n",
    "for i in myList:\n",
    "    for j in i:\n",
    "        print(j,end=\" \")\n",
    "    print()"
   ]
  },
  {
   "cell_type": "code",
   "execution_count": 37,
   "id": "9598f1a8",
   "metadata": {},
   "outputs": [
    {
     "name": "stdout",
     "output_type": "stream",
     "text": [
      "{1: ['jig', 74, 'jpr'], 2: ['Sub', 14, 'KHD'], 3: ['Silv', 26, 'ang']}\n",
      "{1: 66, 2: 55, 3: 88, 4: 60, 11: 98, 5: 74}\n",
      "{1: 66, 2: 75, 3: 88, 4: 60, 11: 98, 5: 74}\n",
      "6\n",
      "{1: 66, 3: 88, 4: 60, 11: 98, 5: 74}\n"
     ]
    }
   ],
   "source": [
    "#DICTIONARY\n",
    "#it is an unordered colletion of key-value pairs.\n",
    "d={1:[\"jig\",74,\"jpr\"],2:[\"Sub\",14,\"KHD\"],3:[\"Silv\",26,\"ang\"]}\n",
    "print(d)\n",
    "\n",
    "#Access the dict\n",
    "#print all keys an value \n",
    "#for key value in released\n",
    "\n",
    "\n",
    "#Update dictionary\n",
    "stud={1:66,2:55,3:88,4:60,11:98}\n",
    "stud[5]=74\n",
    "print(stud)\n",
    "#modify an element in a dict\n",
    "stud[2]=75#key is immutable\n",
    "print(stud)\n",
    "print(len(stud))#6-length dictonary\n",
    "dict(stud)\n",
    "\n",
    "#delete element from the dict\n",
    "del(stud[2])\n",
    "print(stud)\n",
    "\n"
   ]
  },
  {
   "cell_type": "code",
   "execution_count": 39,
   "id": "475635ec",
   "metadata": {},
   "outputs": [
    {
     "name": "stdout",
     "output_type": "stream",
     "text": [
      "{1: 4, 2: 7, 3: 12, 4: 19, 5: 28}\n"
     ]
    }
   ],
   "source": [
    "#TUPLE\n",
    "#dictonary comphrehension\n",
    "l=[1,2,3,4,5]\n",
    "d={i:i*i+3 for i in l}\n",
    "print(d)"
   ]
  },
  {
   "cell_type": "code",
   "execution_count": 41,
   "id": "f873025e",
   "metadata": {},
   "outputs": [
    {
     "name": "stdout",
     "output_type": "stream",
     "text": [
      "{'name': 'Ram', 'age': '27', 'sex': 'Male'}\n",
      "Ram\n"
     ]
    }
   ],
   "source": [
    "#Nested dictionary\n",
    "people={1:{'name':'Ram','age':'27','sex':'Male'},\n",
    "        2:{'name':'Sita','age':'20','sex':'Female'}}\n",
    "print(people[1])\n",
    "print(people[1]['name'])"
   ]
  },
  {
   "cell_type": "code",
   "execution_count": 42,
   "id": "9896a6fc",
   "metadata": {},
   "outputs": [
    {
     "name": "stdout",
     "output_type": "stream",
     "text": [
      "name : Ram\n",
      "age : 27\n",
      "sex : Male\n",
      "name : Sita\n",
      "age : 20\n",
      "sex : Female\n"
     ]
    }
   ],
   "source": [
    "#Iterative Through a Nested Dictonary\n",
    "people={1:{'name':'Ram','age':'27','sex':'Male'},\n",
    "        2:{'name':'Sita','age':'20','sex':'Female'}}\n",
    "for id  in people:\n",
    "    for info in people[id]:\n",
    "        print(info,\":\",people[id][info])"
   ]
  },
  {
   "cell_type": "code",
   "execution_count": 55,
   "id": "077fe1d3",
   "metadata": {},
   "outputs": [
    {
     "name": "stdout",
     "output_type": "stream",
     "text": [
      "{'I': 1, ' ': 5, 'a': 2, 'm': 1, 's': 2, 't': 2, 'u': 1, 'd': 1, 'e': 1, 'n': 2, 'o': 2, 'f': 1, 'i': 2, 'l': 1, 'c': 1}\n"
     ]
    }
   ],
   "source": [
    "#WAP that will print frequency of each character of a string..\n",
    "myString=\"I am a student of silicon\"\n",
    "dict={}\n",
    "for i in myString:\n",
    "    if i not in dict:\n",
    "        dict[i]=1\n",
    "    else:\n",
    "        dict[i]=dict[i]+1\n",
    "print(dict)"
   ]
  },
  {
   "cell_type": "code",
   "execution_count": null,
   "id": "914a7fed",
   "metadata": {},
   "outputs": [],
   "source": [
    "#Write a python prog it will compute the frequncy of each word of text..\n"
   ]
  },
  {
   "cell_type": "code",
   "execution_count": 56,
   "id": "b9865e6d",
   "metadata": {},
   "outputs": [
    {
     "name": "stdout",
     "output_type": "stream",
     "text": [
      "['I', 'am', 'writing', 'my', 'assignment']\n"
     ]
    }
   ],
   "source": [
    "myStr=\"I am writing my assignment\"\n",
    "myList=myStr.split()\n",
    "print(myList)"
   ]
  },
  {
   "cell_type": "code",
   "execution_count": 57,
   "id": "641b3801",
   "metadata": {},
   "outputs": [
    {
     "name": "stdout",
     "output_type": "stream",
     "text": [
      "{1, 2, 3, 4}\n"
     ]
    }
   ],
   "source": [
    "s={1,2,3,4}\n",
    "print(s)\n"
   ]
  },
  {
   "cell_type": "code",
   "execution_count": 58,
   "id": "4eb00429",
   "metadata": {},
   "outputs": [
    {
     "name": "stdout",
     "output_type": "stream",
     "text": [
      "{33, 66, 99, 11, 44, 77, 22, 55, 88}\n"
     ]
    }
   ],
   "source": [
    "l={11,22,33,44,55,66,77,88,99,55,99,22}\n",
    "v=set(l)\n",
    "print(v)#delete duplicate element from the list"
   ]
  },
  {
   "cell_type": "code",
   "execution_count": null,
   "id": "8cdddc42",
   "metadata": {},
   "outputs": [],
   "source": []
  }
 ],
 "metadata": {
  "kernelspec": {
   "display_name": "Python 3 (ipykernel)",
   "language": "python",
   "name": "python3"
  },
  "language_info": {
   "codemirror_mode": {
    "name": "ipython",
    "version": 3
   },
   "file_extension": ".py",
   "mimetype": "text/x-python",
   "name": "python",
   "nbconvert_exporter": "python",
   "pygments_lexer": "ipython3",
   "version": "3.9.12"
  }
 },
 "nbformat": 4,
 "nbformat_minor": 5
}
