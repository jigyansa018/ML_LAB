{
 "cells": [
  {
   "cell_type": "markdown",
   "id": "d6c5abde",
   "metadata": {},
   "source": [
    "#  Implementation of Naive Bayes classifier"
   ]
  },
  {
   "cell_type": "code",
   "execution_count": null,
   "id": "968c6211",
   "metadata": {},
   "outputs": [],
   "source": [
    "#Steps of the algo...\n",
    "\n",
    "#Step-1:Create or load the dataset\n",
    "#step-2: Calculate the Prior Probabilities for each class (i.e, the probability of \"PlayTennis\" being \"Yes\" or \"No\")\n",
    "#step-3: Calculate likelihood Probabiliutes for each feature given the class.\n",
    "#Step-4:Apply Bayes' Theorm to make predictions."
   ]
  },
  {
   "cell_type": "code",
   "execution_count": 2,
   "id": "531e34d0",
   "metadata": {},
   "outputs": [
    {
     "name": "stdout",
     "output_type": "stream",
     "text": [
      "     Outlook Temperature Humidity  Windy PlayTennis\n",
      "0      Sunny         Hot     High  False         No\n",
      "1      Sunny         Hot     High   True         No\n",
      "2   Overcast         Hot     High  False        Yes\n",
      "3       Rain        Mild     High  False        Yes\n",
      "4       Rain        Cool   Normal  False        Yes\n",
      "5       Rain        Cool   Normal   True         No\n",
      "6   Overcast        Cool   Normal   True        Yes\n",
      "7      Sunny        Mild     High  False         No\n",
      "8      Sunny        Cool   Normal  False        Yes\n",
      "9       Rain        Mild   Normal  False        Yes\n",
      "10     Sunny        Mild   Normal   True        Yes\n",
      "11  Overcast        Mild     High   True        Yes\n",
      "12  Overcast         Hot   Normal  False        Yes\n",
      "13      Rain        Mild     High   True         No\n"
     ]
    }
   ],
   "source": [
    "# Importing necessary libraries\n",
    "import pandas as pd\n",
    "import numpy as np\n",
    "\n",
    "# Step-1: Create or load the dataset\n",
    "# For this example, let's create a sample \"PlayTennis\" dataset\n",
    "# Sample \"Play Tennis\" dataset\n",
    "data = {\n",
    "    'Outlook': ['Sunny', 'Sunny', 'Overcast', 'Rain', 'Rain', 'Rain', 'Overcast', 'Sunny', 'Sunny', 'Rain', 'Sunny', 'Overcast', 'Overcast', 'Rain'],\n",
    "    'Temperature': ['Hot', 'Hot', 'Hot', 'Mild', 'Cool', 'Cool', 'Cool', 'Mild', 'Cool', 'Mild', 'Mild', 'Mild', 'Hot', 'Mild'],\n",
    "    'Humidity': ['High', 'High', 'High', 'High', 'Normal', 'Normal', 'Normal', 'High', 'Normal', 'Normal', 'Normal', 'High', 'Normal', 'High'],\n",
    "    'Windy': ['False', 'True', 'False', 'False', 'False', 'True', 'True', 'False', 'False', 'False', 'True', 'True', 'False', 'True'],\n",
    "    'PlayTennis': ['No', 'No', 'Yes', 'Yes', 'Yes', 'No', 'Yes', 'No', 'Yes', 'Yes', 'Yes', 'Yes', 'Yes', 'No']\n",
    "}\n",
    "\n",
    "df = pd.DataFrame(data)\n",
    "print(df)"
   ]
  },
  {
   "cell_type": "code",
   "execution_count": 5,
   "id": "137a0ff7",
   "metadata": {},
   "outputs": [
    {
     "name": "stdout",
     "output_type": "stream",
     "text": [
      "Prior Probability of PlayTennis = Yes: 0.6428571428571429\n",
      "Prior Probability of PlayTennis = No: 0.35714285714285715\n"
     ]
    }
   ],
   "source": [
    "# Step-2: Calculate Prior Probabilities for each class\n",
    "total_records = len(df)\n",
    "play_yes_count = len(df[df['PlayTennis'] == 'Yes'])\n",
    "play_no_count = len(df[df['PlayTennis'] == 'No'])\n",
    "\n",
    "prior_yes = play_yes_count / total_records\n",
    "prior_no = play_no_count / total_records\n",
    "\n",
    "print(\"Prior Probability of PlayTennis = Yes:\", prior_yes)\n",
    "print(\"Prior Probability of PlayTennis = No:\", prior_no)\n"
   ]
  },
  {
   "cell_type": "code",
   "execution_count": 6,
   "id": "46bebf26",
   "metadata": {},
   "outputs": [
    {
     "name": "stdout",
     "output_type": "stream",
     "text": [
      "P(Outlook=Sunny | PlayTennis=Yes): 0.2222222222222222\n",
      "P(Temperature=Hot | PlayTennis=Yes): 0.2222222222222222\n",
      "P(Humidity=High | PlayTennis=Yes): 0.3333333333333333\n",
      "P(Windy=False | PlayTennis=Yes): 0.6666666666666666\n"
     ]
    }
   ],
   "source": [
    "# Step 3: Calculate Likelihood Probabilities for each feature\n",
    "def calculate_likelihood(feature, feature_value, target_class):\n",
    "    # Filter the dataset where PlayTennis matches the target class\n",
    "    class_data = df[df['PlayTennis'] == target_class]\n",
    "    # Count the occurrences of the feature_value in the given class\n",
    "    feature_count = len(class_data[class_data[feature] == feature_value])\n",
    "    # Divide by the total count of records in the class to get the likelihood\n",
    "    return feature_count / len(class_data)\n",
    "\n",
    "# Example likelihoods for PlayTennis = 'Yes'\n",
    "print(\"P(Outlook=Sunny | PlayTennis=Yes):\", calculate_likelihood('Outlook', 'Sunny', 'Yes'))\n",
    "print(\"P(Temperature=Hot | PlayTennis=Yes):\", calculate_likelihood('Temperature', 'Hot', 'Yes'))\n",
    "print(\"P(Humidity=High | PlayTennis=Yes):\", calculate_likelihood('Humidity', 'High', 'Yes'))\n",
    "print(\"P(Windy=False | PlayTennis=Yes):\", calculate_likelihood('Windy', 'False', 'Yes'))\n"
   ]
  },
  {
   "cell_type": "code",
   "execution_count": 12,
   "id": "b458efa0",
   "metadata": {},
   "outputs": [
    {
     "name": "stdout",
     "output_type": "stream",
     "text": [
      "Predicted PlayTennis for the instance: No\n"
     ]
    }
   ],
   "source": [
    "# Step 4: Apply Bayes' Theorem to make a prediction\n",
    "def calculate_posterior(instance):\n",
    "    # Likelihoods for 'Yes' class\n",
    "    likelihood_yes = (\n",
    "        calculate_likelihood('Outlook', instance['Outlook'], 'Yes') *\n",
    "        calculate_likelihood('Temperature', instance['Temperature'], 'Yes') *\n",
    "        calculate_likelihood('Humidity', instance['Humidity'], 'Yes') *\n",
    "        calculate_likelihood('Windy', instance['Windy'], 'Yes')\n",
    "    )\n",
    "    \n",
    "    # Likelihoods for 'No' class\n",
    "    likelihood_no = (\n",
    "        calculate_likelihood('Outlook', instance['Outlook'], 'No') *\n",
    "        calculate_likelihood('Temperature', instance['Temperature'], 'No') *\n",
    "        calculate_likelihood('Humidity', instance['Humidity'], 'No') *\n",
    "        calculate_likelihood('Windy', instance['Windy'], 'No')\n",
    "    )\n",
    "    \n",
    "    # Posterior probabilities\n",
    "    posterior_yes = prior_yes * likelihood_yes\n",
    "    posterior_no = prior_no * likelihood_no\n",
    "    \n",
    "    # Return prediction based on higher posterior probability\n",
    "    return 'Yes' if posterior_yes > posterior_no else 'No'\n",
    "\n",
    "# Predict for a sample instance\n",
    "instance = {\n",
    "    'Outlook': 'Sunny',\n",
    "    'Temperature': 'Hot',\n",
    "    'Humidity': 'High',\n",
    "    'Windy': 'False'\n",
    "}\n",
    "\n",
    "# Making the prediction\n",
    "prediction = calculate_posterior(instance)\n",
    "print(\"Predicted PlayTennis for the instance:\", prediction)\n"
   ]
  },
  {
   "cell_type": "code",
   "execution_count": null,
   "id": "86546f7d",
   "metadata": {},
   "outputs": [],
   "source": []
  }
 ],
 "metadata": {
  "kernelspec": {
   "display_name": "Python 3 (ipykernel)",
   "language": "python",
   "name": "python3"
  },
  "language_info": {
   "codemirror_mode": {
    "name": "ipython",
    "version": 3
   },
   "file_extension": ".py",
   "mimetype": "text/x-python",
   "name": "python",
   "nbconvert_exporter": "python",
   "pygments_lexer": "ipython3",
   "version": "3.9.12"
  }
 },
 "nbformat": 4,
 "nbformat_minor": 5
}
