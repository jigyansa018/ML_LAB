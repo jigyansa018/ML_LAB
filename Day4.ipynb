{
 "cells": [
  {
   "cell_type": "markdown",
   "id": "836f6920",
   "metadata": {},
   "source": [
    "# Day 4"
   ]
  },
  {
   "cell_type": "code",
   "execution_count": 2,
   "id": "77e37aef",
   "metadata": {},
   "outputs": [
    {
     "name": "stdout",
     "output_type": "stream",
     "text": [
      "Cosine Similarity: 0.9338479919516195\n"
     ]
    }
   ],
   "source": [
    "import numpy as np\n",
    "\n",
    "# Define the lists\n",
    "l1 = np.array([2, 5, 3, 2, 3, 5, 2])\n",
    "l2 = np.array([2, 4, 5, 4, 5, 4, 3])\n",
    "\n",
    "# Cosine Similarity calculation\n",
    "dot_product = np.dot(l1, l2)\n",
    "norm_l1 = np.linalg.norm(l1)\n",
    "norm_l2 = np.linalg.norm(l2)\n",
    "cosine_similarity = dot_product / (norm_l1 * norm_l2)\n",
    "\n",
    "print(\"Cosine Similarity:\", cosine_similarity)"
   ]
  },
  {
   "cell_type": "code",
   "execution_count": 3,
   "id": "78b30766",
   "metadata": {},
   "outputs": [
    {
     "name": "stdout",
     "output_type": "stream",
     "text": [
      "Euclidean Distance: 3.872983346207417\n"
     ]
    }
   ],
   "source": [
    "import numpy as np\n",
    "\n",
    "# Define the lists\n",
    "l1 = np.array([2, 5, 3, 2, 3, 5, 2])\n",
    "l2 = np.array([2, 4, 5, 4, 5, 4, 3])\n",
    "\n",
    "# Euclidean Distance calculation\n",
    "euclidean_distance = np.sqrt(np.sum((l1 - l2)**2))\n",
    "\n",
    "print(\"Euclidean Distance:\", euclidean_distance)\n"
   ]
  }
 ],
 "metadata": {
  "kernelspec": {
   "display_name": "Python 3 (ipykernel)",
   "language": "python",
   "name": "python3"
  },
  "language_info": {
   "codemirror_mode": {
    "name": "ipython",
    "version": 3
   },
   "file_extension": ".py",
   "mimetype": "text/x-python",
   "name": "python",
   "nbconvert_exporter": "python",
   "pygments_lexer": "ipython3",
   "version": "3.9.12"
  },
  "widgets": {
   "application/vnd.jupyter.widget-state+json": {
    "state": {},
    "version_major": 2,
    "version_minor": 0
   }
  }
 },
 "nbformat": 4,
 "nbformat_minor": 5
}
