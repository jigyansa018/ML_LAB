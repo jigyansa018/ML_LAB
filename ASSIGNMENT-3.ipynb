{
 "cells": [
  {
   "cell_type": "markdown",
   "id": "d745080d",
   "metadata": {},
   "source": [
    "# Assignment-3"
   ]
  },
  {
   "cell_type": "code",
   "execution_count": 4,
   "id": "7e6c77c5",
   "metadata": {},
   "outputs": [
    {
     "name": "stdout",
     "output_type": "stream",
     "text": [
      "30\n"
     ]
    }
   ],
   "source": [
    "#Q1.Def fun\n",
    "def fun(a,b):\n",
    "    c=a+b\n",
    "    return c\n",
    "\n",
    "#call the fun...return sum of two numbers using function\n",
    "res=fun(10,20)\n",
    "print(res)"
   ]
  },
  {
   "cell_type": "code",
   "execution_count": 9,
   "id": "61cfd571",
   "metadata": {},
   "outputs": [
    {
     "name": "stdout",
     "output_type": "stream",
     "text": [
      "Enter the basic salary:30000\n",
      "Gross Salary: 52500.0\n"
     ]
    }
   ],
   "source": [
    "#Q2.gross salary\n",
    "def gross_salary(basic_salary):\n",
    "    # Define the percentages for DA and HRA\n",
    "    DA = 0.60  # 60%\n",
    "    HRA = 0.15  # 15%\n",
    "    \n",
    "    # Calculate DA and HRA\n",
    "    DA = basic_salary * DA\n",
    "    HRA = basic_salary * HRA\n",
    "    \n",
    "    # Calculate gross salary\n",
    "    gross_salary = basic_salary + DA + HRA\n",
    "    \n",
    "    return gross_salary\n",
    "\n",
    "# Example usage\n",
    "basic_salary = int(input(\"Enter the basic salary:\")) # Example basic salary\n",
    "gross_salary = gross_salary(basic_salary)\n",
    "print(f\"Gross Salary: {gross_salary}\")\n"
   ]
  },
  {
   "cell_type": "code",
   "execution_count": 1,
   "id": "e438e760",
   "metadata": {},
   "outputs": [
    {
     "name": "stdout",
     "output_type": "stream",
     "text": [
      "Enter the first number: 20\n",
      "Enter the second number: 10\n",
      "Enter the operator (+, -, *, /): +\n",
      "Result: 30.0\n"
     ]
    }
   ],
   "source": [
    "#Q3.\n",
    "# Define functions for each operation\n",
    "\n",
    "def add(x, y):\n",
    "    return x + y\n",
    "\n",
    "def subtract(x, y):\n",
    "    return x - y\n",
    "\n",
    "def multiply(x, y):\n",
    "    return x * y\n",
    "\n",
    "def divide(x, y):\n",
    "    if y != 0:\n",
    "        return x / y\n",
    "    else:\n",
    "        return \"Error: Division by zero is not allowed.\"\n",
    "\n",
    "# Function to check if input is a valid number\n",
    "def is_valid_number(value):\n",
    "    try:\n",
    "        float(value)\n",
    "        return True\n",
    "    except ValueError:\n",
    "        return False\n",
    "\n",
    "# Main function to read input and perform the calculation\n",
    "def main():\n",
    "    # Read and validate the first number\n",
    "    num1 = input(\"Enter the first number: \")\n",
    "    if not is_valid_number(num1):\n",
    "        print(\"Error: Invalid input. Please enter a numeric value.\")\n",
    "        return\n",
    "\n",
    "    # Read and validate the second number\n",
    "    num2 = input(\"Enter the second number: \")\n",
    "    if not is_valid_number(num2):\n",
    "        print(\"Error: Invalid input. Please enter a numeric value.\")\n",
    "        return\n",
    "\n",
    "    num1 = float(num1)\n",
    "    num2 = float(num2)\n",
    "\n",
    "    # Read the operator\n",
    "    operator = input(\"Enter the operator (+, -, *, /): \")\n",
    "\n",
    "    # Perform the calculation based on the operator\n",
    "    if operator == '+':\n",
    "        result = add(num1, num2)\n",
    "    elif operator == '-':\n",
    "        result = subtract(num1, num2)\n",
    "    elif operator == '*':\n",
    "        result = multiply(num1, num2)\n",
    "    elif operator == '/':\n",
    "        result = divide(num1, num2)\n",
    "    else:\n",
    "        result = \"Error: Invalid operator.\"\n",
    "\n",
    "    # Display the result\n",
    "    print(\"Result:\", result)\n",
    "\n",
    "# Directly call the main function\n",
    "main()\n"
   ]
  },
  {
   "cell_type": "code",
   "execution_count": 3,
   "id": "4d0e177a",
   "metadata": {},
   "outputs": [
    {
     "name": "stdout",
     "output_type": "stream",
     "text": [
      "True\n"
     ]
    }
   ],
   "source": [
    "#Q4.\n",
    "def is_prime(n):\n",
    "    \"\"\"Check if a number is prime.\"\"\"\n",
    "    # Check if n is less than 2\n",
    "    if n <= 1:\n",
    "        return False\n",
    "    # Check if n is 2 or 3 (both are prime)\n",
    "    if n <= 3:\n",
    "        return True\n",
    "    # Eliminate even numbers and multiples of 3\n",
    "    if n % 2 == 0 or n % 3 == 0:\n",
    "        return False\n",
    "    # Check for factors from 5 to the square root of n\n",
    "    i = 5\n",
    "    while i * i <= n:\n",
    "        if n % i == 0 or n % (i + 2) == 0:\n",
    "            return False\n",
    "        i += 6\n",
    "    return True\n",
    "print(is_prime(2))\n",
    "\n"
   ]
  },
  {
   "cell_type": "code",
   "execution_count": 5,
   "id": "3da41d76",
   "metadata": {},
   "outputs": [
    {
     "name": "stdout",
     "output_type": "stream",
     "text": [
      "60\n",
      "35\n",
      "42\n"
     ]
    }
   ],
   "source": [
    "#Q5\n",
    "import math\n",
    "\n",
    "def lcm(a, b):\n",
    "    \"\"\"\n",
    "    Calculate the Least Common Multiple (LCM) of two integers.\n",
    "\n",
    "    Parameters:\n",
    "    a (int): The first number.\n",
    "    b (int): The second number.\n",
    "\n",
    "    Returns:\n",
    "    int: The LCM of the two numbers.\n",
    "    \"\"\"\n",
    "    # Compute the Greatest Common Divisor (GCD)\n",
    "    gcd = math.gcd(a, b)\n",
    "    # Calculate the LCM using the formula\n",
    "    return abs(a * b) // gcd\n",
    "\n",
    "# Example usage:\n",
    "print(lcm(12, 15))  # Output: 60\n",
    "print(lcm(7, 5))    # Output: 35\n",
    "print(lcm(21, 6))   # Output: 42\n"
   ]
  },
  {
   "cell_type": "code",
   "execution_count": 6,
   "id": "4a61238b",
   "metadata": {},
   "outputs": [
    {
     "name": "stdout",
     "output_type": "stream",
     "text": [
      "120\n",
      "1\n"
     ]
    }
   ],
   "source": [
    "#Q6.\n",
    "def factorial(n):\n",
    "    \"\"\"\n",
    "    Calculate the factorial of a non-negative integer n.\n",
    "\n",
    "    Parameters:\n",
    "    n (int): The number to find the factorial of.\n",
    "\n",
    "    Returns:\n",
    "    int: The factorial of the number.\n",
    "    \"\"\"\n",
    "    if n < 0:\n",
    "        raise ValueError(\"Factorial is not defined for negative numbers\")\n",
    "    result = 1\n",
    "    for i in range(2, n + 1):\n",
    "        result *= i\n",
    "    return result\n",
    "\n",
    "# Example usage:\n",
    "print(factorial(5))  # Output: 120\n",
    "print(factorial(0))  # Output: 1\n"
   ]
  },
  {
   "cell_type": "code",
   "execution_count": 7,
   "id": "b9549f7c",
   "metadata": {},
   "outputs": [
    {
     "name": "stdout",
     "output_type": "stream",
     "text": [
      "5\n",
      "55\n"
     ]
    }
   ],
   "source": [
    "#Q7.\n",
    "def fibonacci(n):\n",
    "    \"\"\"\n",
    "    Find the nth Fibonacci number.\n",
    "\n",
    "    Parameters:\n",
    "    n (int): The position in the Fibonacci sequence (0-indexed).\n",
    "\n",
    "    Returns:\n",
    "    int: The nth Fibonacci number.\n",
    "    \"\"\"\n",
    "    if n <= 0:\n",
    "        return 0\n",
    "    elif n == 1:\n",
    "        return 1\n",
    "    a, b = 0, 1\n",
    "    for _ in range(2, n + 1):\n",
    "        a, b = b, a + b\n",
    "    return b\n",
    "\n",
    "# Example usage:\n",
    "print(fibonacci(5))  # Output: 5\n",
    "print(fibonacci(10)) # Output: 55\n"
   ]
  },
  {
   "cell_type": "code",
   "execution_count": 8,
   "id": "8a287cdd",
   "metadata": {},
   "outputs": [
    {
     "name": "stdout",
     "output_type": "stream",
     "text": [
      "2\n",
      "5\n"
     ]
    }
   ],
   "source": [
    "#Q8.\n",
    "def second_smallest(lst):\n",
    "    \"\"\"\n",
    "    Find the 2nd smallest element in a list.\n",
    "\n",
    "    Parameters:\n",
    "    lst (list): The list of integers.\n",
    "\n",
    "    Returns:\n",
    "    int: The 2nd smallest element in the list.\n",
    "    \"\"\"\n",
    "    if len(lst) < 2:\n",
    "        raise ValueError(\"List must contain at least two elements\")\n",
    "\n",
    "    # Remove duplicates and sort the list\n",
    "    unique_lst = list(set(lst))\n",
    "    if len(unique_lst) < 2:\n",
    "        raise ValueError(\"List must contain at least two unique elements\")\n",
    "    \n",
    "    unique_lst.sort()\n",
    "    return unique_lst[1]\n",
    "\n",
    "# Example usage:\n",
    "print(second_smallest([4, 2, 7, 1, 8]))    # Output: 2\n",
    "print(second_smallest([10, 10, 5, 5, 2]))  # Output: 5\n"
   ]
  },
  {
   "cell_type": "code",
   "execution_count": 10,
   "id": "e1784aed",
   "metadata": {},
   "outputs": [],
   "source": [
    "#Q12.\n",
    "# This file can be empty or used to initialize the package.\n",
    "# You can also import functions to make them accessible directly from the package.\n",
    "from myPackage.module1 import greet\n",
    "from myPackage.module2 import add\n"
   ]
  },
  {
   "cell_type": "code",
   "execution_count": 13,
   "id": "8f51d19f",
   "metadata": {},
   "outputs": [
    {
     "name": "stdout",
     "output_type": "stream",
     "text": [
      "Hello, Isha!\n",
      "8\n"
     ]
    }
   ],
   "source": [
    "# Import functions from the package\n",
    "from myPackage.module1 import greet\n",
    "from myPackage.module2 import add\n",
    "\n",
    "def main():\n",
    "    # Use the greet function from module1\n",
    "    print(greet(\"Isha\"))\n",
    "    \n",
    "    # Use the add function from module2\n",
    "    print(add(5, 3))\n",
    "\n",
    "if __name__ == \"__main__\":\n",
    "    main()\n"
   ]
  },
  {
   "cell_type": "code",
   "execution_count": 20,
   "id": "76deaac4",
   "metadata": {},
   "outputs": [
    {
     "name": "stdout",
     "output_type": "stream",
     "text": [
      "120\n",
      "1\n"
     ]
    }
   ],
   "source": [
    "#Q9.\n",
    "def factorial(n):\n",
    "    \"\"\"\n",
    "    Calculate the factorial of a non-negative integer n using recursion.\n",
    "    \n",
    "    Parameters:\n",
    "    n (int): The number to find the factorial of.\n",
    "\n",
    "    Returns:\n",
    "    int: The factorial of the number.\n",
    "    \"\"\"\n",
    "    if n <= 1:\n",
    "        return 1\n",
    "    else:\n",
    "        return n * factorial(n - 1)\n",
    "\n",
    "# Example usage\n",
    "print(factorial(5))  # Output: 120\n",
    "print(factorial(0))  # Output: 1\n"
   ]
  },
  {
   "cell_type": "code",
   "execution_count": 17,
   "id": "774a9354",
   "metadata": {},
   "outputs": [
    {
     "name": "stdout",
     "output_type": "stream",
     "text": [
      "6\n",
      "14\n"
     ]
    }
   ],
   "source": [
    "#Q10.\n",
    "def gcd(a, b):\n",
    "    \"\"\"\n",
    "    Calculate the Greatest Common Divisor (GCD) of two numbers using recursion.\n",
    "    \n",
    "    Parameters:\n",
    "    a (int): The first number.\n",
    "    b (int): The second number.\n",
    "\n",
    "    Returns:\n",
    "    int: The GCD of the two numbers.\n",
    "    \"\"\"\n",
    "    if b == 0:\n",
    "        return a\n",
    "    else:\n",
    "        return gcd(b, a % b)\n",
    "\n",
    "# Example usage\n",
    "print(gcd(48, 18))  # Output: 6\n",
    "print(gcd(56, 98))  # Output: 14\n"
   ]
  },
  {
   "cell_type": "code",
   "execution_count": 21,
   "id": "d66ef770",
   "metadata": {},
   "outputs": [
    {
     "name": "stdout",
     "output_type": "stream",
     "text": [
      "10\n",
      "24\n"
     ]
    }
   ],
   "source": [
    "#Q11.\n",
    "def sum_of_digits(n):\n",
    "    \"\"\"\n",
    "    Calculate the sum of digits of a number using recursion.\n",
    "    \n",
    "    Parameters:\n",
    "    n (int): The number whose digits are to be summed.\n",
    "\n",
    "    Returns:\n",
    "    int: The sum of the digits of the number.\n",
    "    \"\"\"\n",
    "    if n == 0:\n",
    "        return 0\n",
    "    else:\n",
    "        return n % 10 + sum_of_digits(n // 10)\n",
    "\n",
    "# Example usage\n",
    "print(sum_of_digits(1234))  # Output: 10\n",
    "print(sum_of_digits(987))   # Output: 24\n",
    "\n"
   ]
  },
  {
   "cell_type": "code",
   "execution_count": 22,
   "id": "76f15de8",
   "metadata": {},
   "outputs": [
    {
     "name": "stdout",
     "output_type": "stream",
     "text": [
      "8\n",
      "1\n"
     ]
    }
   ],
   "source": [
    "#Q12.\n",
    "def power(base, exp):\n",
    "    \"\"\"\n",
    "    Calculate the power of a number using recursion.\n",
    "    \n",
    "    Parameters:\n",
    "    base (int or float): The base number.\n",
    "    exp (int): The exponent (non-negative).\n",
    "\n",
    "    Returns:\n",
    "    int or float: The result of base raised to the power of exp.\n",
    "    \"\"\"\n",
    "    if exp == 0:\n",
    "        return 1\n",
    "    else:\n",
    "        return base * power(base, exp - 1)\n",
    "\n",
    "# Example usage\n",
    "print(power(2, 3))  # Output: 8\n",
    "print(power(5, 0))  # Output: 1\n"
   ]
  },
  {
   "cell_type": "code",
   "execution_count": 23,
   "id": "8fa81825",
   "metadata": {},
   "outputs": [
    {
     "name": "stdout",
     "output_type": "stream",
     "text": [
      "0 1 1 2 3 5 8 13 21 34 \n"
     ]
    }
   ],
   "source": [
    "#13.\n",
    "def fibonacci(n, memo=None):\n",
    "    \"\"\"\n",
    "    Print the Fibonacci series up to the nth number using recursion and memoization.\n",
    "    \n",
    "    Parameters:\n",
    "    n (int): The position in the Fibonacci sequence to calculate up to.\n",
    "    memo (dict, optional): A dictionary to store previously computed Fibonacci numbers.\n",
    "\n",
    "    Returns:\n",
    "    int: The nth Fibonacci number.\n",
    "    \"\"\"\n",
    "    if memo is None:\n",
    "        memo = {0: 0, 1: 1}\n",
    "    \n",
    "    if n in memo:\n",
    "        return memo[n]\n",
    "    \n",
    "    memo[n] = fibonacci(n - 1, memo) + fibonacci(n - 2, memo)\n",
    "    return memo[n]\n",
    "\n",
    "def print_fibonacci_series(n):\n",
    "    \"\"\"\n",
    "    Print the Fibonacci series up to the nth number.\n",
    "    \n",
    "    Parameters:\n",
    "    n (int): The length of the Fibonacci series to print.\n",
    "    \"\"\"\n",
    "    for i in range(n):\n",
    "        print(fibonacci(i), end=' ')\n",
    "    print()\n",
    "\n",
    "# Example usage\n",
    "print_fibonacci_series(10)  # Output: 0 1 1 2 3 5 8 13 21 34\n"
   ]
  },
  {
   "cell_type": "code",
   "execution_count": 25,
   "id": "70be3333",
   "metadata": {},
   "outputs": [
    {
     "name": "stdout",
     "output_type": "stream",
     "text": [
      "3\n",
      "-1\n"
     ]
    }
   ],
   "source": [
    "#14.\n",
    "def binary_search(arr, low, high, target):\n",
    "    \"\"\"\n",
    "    Perform binary search using recursion.\n",
    "    \n",
    "    Parameters:\n",
    "    arr (list): The sorted list to search in.\n",
    "    low (int): The starting index of the segment of the list to search.\n",
    "    high (int): The ending index of the segment of the list to search.\n",
    "    target (int): The value to search for.\n",
    "\n",
    "    Returns:\n",
    "    int: The index of the target value if found, else -1.\n",
    "    \"\"\"\n",
    "    if low <= high:\n",
    "        mid = (low + high) // 2\n",
    "        \n",
    "        if arr[mid] == target:\n",
    "            return mid\n",
    "        elif arr[mid] < target:\n",
    "            return binary_search(arr, mid + 1, high, target)\n",
    "        else:\n",
    "            return binary_search(arr, low, mid - 1, target)\n",
    "    else:\n",
    "        return -1\n",
    "\n",
    "# Example usage\n",
    "sorted_list = [1, 3, 5, 7, 9, 11]\n",
    "print(binary_search(sorted_list, 0, len(sorted_list) - 1, 7))  # Output: 3\n",
    "print(binary_search(sorted_list, 0, len(sorted_list) - 1, 2))  # Output: -1\n"
   ]
  },
  {
   "cell_type": "code",
   "execution_count": 28,
   "id": "4b9e65bb",
   "metadata": {},
   "outputs": [
    {
     "ename": "ModuleNotFoundError",
     "evalue": "No module named 'calculator'",
     "output_type": "error",
     "traceback": [
      "\u001b[1;31m---------------------------------------------------------------------------\u001b[0m",
      "\u001b[1;31mModuleNotFoundError\u001b[0m                       Traceback (most recent call last)",
      "Input \u001b[1;32mIn [28]\u001b[0m, in \u001b[0;36m<cell line: 2>\u001b[1;34m()\u001b[0m\n\u001b[0;32m      1\u001b[0m \u001b[38;5;66;03m#Module:\u001b[39;00m\n\u001b[1;32m----> 2\u001b[0m \u001b[38;5;28;01mimport\u001b[39;00m \u001b[38;5;21;01mcalculator\u001b[39;00m\n\u001b[0;32m      4\u001b[0m \u001b[38;5;28;01mdef\u001b[39;00m \u001b[38;5;21mmain\u001b[39m():\n\u001b[0;32m      5\u001b[0m     \u001b[38;5;66;03m# Example usage of the calculator module\u001b[39;00m\n\u001b[0;32m      6\u001b[0m     a \u001b[38;5;241m=\u001b[39m \u001b[38;5;241m10\u001b[39m\n",
      "\u001b[1;31mModuleNotFoundError\u001b[0m: No module named 'calculator'"
     ]
    }
   ],
   "source": [
    "#Q10.Module:\n",
    "import calculator\n",
    "\n",
    "def main():\n",
    "    # Example usage of the calculator module\n",
    "    a = 10\n",
    "    b = 5\n",
    "    \n",
    "    print(f\"{a} + {b} = {calculator.add(a, b)}\")\n",
    "    print(f\"{a} - {b} = {calculator.subtract(a, b)}\")\n",
    "    print(f\"{a} * {b} = {calculator.multiply(a, b)}\")\n",
    "    print(f\"{a} / {b} = {calculator.divide(a, b)}\")\n",
    "\n",
    "if __name__ == \"__main__\":\n",
    "    main()\n"
   ]
  },
  {
   "cell_type": "code",
   "execution_count": 31,
   "id": "447c7561",
   "metadata": {},
   "outputs": [
    {
     "ename": "ModuleNotFoundError",
     "evalue": "No module named 'matrix'",
     "output_type": "error",
     "traceback": [
      "\u001b[1;31m---------------------------------------------------------------------------\u001b[0m",
      "\u001b[1;31mModuleNotFoundError\u001b[0m                       Traceback (most recent call last)",
      "Input \u001b[1;32mIn [31]\u001b[0m, in \u001b[0;36m<cell line: 2>\u001b[1;34m()\u001b[0m\n\u001b[0;32m      1\u001b[0m \u001b[38;5;66;03m#Q11.\u001b[39;00m\n\u001b[1;32m----> 2\u001b[0m \u001b[38;5;28;01mimport\u001b[39;00m \u001b[38;5;21;01mmatrix\u001b[39;00m\n\u001b[0;32m      4\u001b[0m \u001b[38;5;28;01mdef\u001b[39;00m \u001b[38;5;21mprint_matrix\u001b[39m(matrix):\n\u001b[0;32m      5\u001b[0m     \u001b[38;5;124;03m\"\"\"\u001b[39;00m\n\u001b[0;32m      6\u001b[0m \u001b[38;5;124;03m    Print a matrix.\u001b[39;00m\n\u001b[0;32m      7\u001b[0m \u001b[38;5;124;03m    \u001b[39;00m\n\u001b[0;32m      8\u001b[0m \u001b[38;5;124;03m    Parameters:\u001b[39;00m\n\u001b[0;32m      9\u001b[0m \u001b[38;5;124;03m    matrix (list of lists): The matrix to print.\u001b[39;00m\n\u001b[0;32m     10\u001b[0m \u001b[38;5;124;03m    \"\"\"\u001b[39;00m\n",
      "\u001b[1;31mModuleNotFoundError\u001b[0m: No module named 'matrix'"
     ]
    }
   ],
   "source": [
    "#Q11.\n",
    "import matrix\n",
    "\n",
    "def print_matrix(matrix):\n",
    "    \"\"\"\n",
    "    Print a matrix.\n",
    "    \n",
    "    Parameters:\n",
    "    matrix (list of lists): The matrix to print.\n",
    "    \"\"\"\n",
    "    for row in matrix:\n",
    "        print(row)\n",
    "\n",
    "def main():\n",
    "    # Define some matrices\n",
    "    matrix1 = [[1, 2], [3, 4]]\n",
    "    matrix2 = [[5, 6], [7, 8]]\n",
    "\n",
    "    print(\"Matrix 1:\")\n",
    "    print_matrix(matrix1)\n",
    "\n",
    "    print(\"\\nMatrix 2:\")\n",
    "    print_matrix(matrix2)\n",
    "\n",
    "    print(\"\\nAddition of matrices:\")\n",
    "    result_add = matrix_operations.add_matrices(matrix1, matrix2)\n",
    "    print_matrix(result_add)\n",
    "\n",
    "    print(\"\\nMultiplication of matrices:\")\n",
    "    result_multiply = matrix_operations.multiply_matrices(matrix1, matrix2)\n",
    "    print_matrix(result_multiply)\n",
    "\n",
    "    print(\"\\nTranspose of Matrix 1:\")\n",
    "    result_transpose = matrix.transpose_matrix(matrix1)\n",
    "    print_matrix(result_transpose)\n",
    "\n",
    "    print(\"\\nInverse of Matrix 1:\")\n",
    "    try:\n",
    "        result_inverse = matrix.matrix_inverse(matrix1)\n",
    "        print_matrix(result_inverse)\n",
    "    except ValueError as e:\n",
    "        print(e)\n",
    "\n",
    "if __name__ == \"__main__\":\n",
    "    main()\n",
    "\n"
   ]
  },
  {
   "cell_type": "code",
   "execution_count": null,
   "id": "46e2929c",
   "metadata": {},
   "outputs": [],
   "source": []
  }
 ],
 "metadata": {
  "kernelspec": {
   "display_name": "Python 3 (ipykernel)",
   "language": "python",
   "name": "python3"
  },
  "language_info": {
   "codemirror_mode": {
    "name": "ipython",
    "version": 3
   },
   "file_extension": ".py",
   "mimetype": "text/x-python",
   "name": "python",
   "nbconvert_exporter": "python",
   "pygments_lexer": "ipython3",
   "version": "3.9.12"
  }
 },
 "nbformat": 4,
 "nbformat_minor": 5
}
