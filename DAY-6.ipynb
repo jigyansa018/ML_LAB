{
 "cells": [
  {
   "cell_type": "markdown",
   "id": "ac5d953c",
   "metadata": {},
   "source": [
    "Introduction to Numpy"
   ]
  },
  {
   "cell_type": "code",
   "execution_count": 3,
   "id": "25fee0a0",
   "metadata": {},
   "outputs": [],
   "source": [
    "#Numpy is a power\n"
   ]
  },
  {
   "cell_type": "code",
   "execution_count": 2,
   "id": "8ee9f09a",
   "metadata": {},
   "outputs": [],
   "source": [
    "#Importing Numpy\n",
    "import numpy as np"
   ]
  },
  {
   "cell_type": "code",
   "execution_count": 4,
   "id": "3abc7a8d",
   "metadata": {},
   "outputs": [
    {
     "name": "stdout",
     "output_type": "stream",
     "text": [
      "[1 2 3 4 5]\n",
      "<class 'numpy.ndarray'>\n",
      "(5,)\n"
     ]
    }
   ],
   "source": [
    "#Creating array using numPy\n",
    "arr=np.array([1,2,3,4,5])\n",
    "print(arr)\n",
    "print(type(arr))\n",
    "print(arr.shape)"
   ]
  },
  {
   "cell_type": "code",
   "execution_count": 5,
   "id": "77701fd0",
   "metadata": {},
   "outputs": [
    {
     "name": "stdout",
     "output_type": "stream",
     "text": [
      "[[1 2 3 4 5]]\n",
      "<class 'numpy.ndarray'>\n",
      "(1, 5)\n"
     ]
    }
   ],
   "source": [
    "#creating array using numpy\n",
    "arr= np.array([[1,2,3,4,5]])\n",
    "print(arr)\n",
    "print(type(arr))\n",
    "print(arr.shape)"
   ]
  },
  {
   "cell_type": "code",
   "execution_count": 7,
   "id": "cb82eaf5",
   "metadata": {},
   "outputs": [
    {
     "name": "stdout",
     "output_type": "stream",
     "text": [
      "[[11 22 33]\n",
      " [22 33 44]\n",
      " [44 55 66]]\n",
      "<class 'numpy.ndarray'>\n",
      "(3, 3)\n"
     ]
    }
   ],
   "source": [
    "mat=np.array([[11,22,33],[22,33,44],[44,55,66]])\n",
    "print(mat)\n",
    "print(type(mat))\n",
    "print(mat.shape)"
   ]
  },
  {
   "cell_type": "code",
   "execution_count": 16,
   "id": "02843ef9",
   "metadata": {},
   "outputs": [
    {
     "name": "stdout",
     "output_type": "stream",
     "text": [
      "(3, 3)\n",
      "<class 'numpy.ndarray'>\n",
      "[[1 2 3]\n",
      " [4 5 6]\n",
      " [7 8 9]]\n"
     ]
    }
   ],
   "source": [
    "#Creating 2D array\n",
    "arr=np.array([[1,2,3],[4,5,6],[7,8,9]])\n",
    "print(arr.shape)\n",
    "print(type(arr))\n",
    "print(arr)"
   ]
  },
  {
   "cell_type": "code",
   "execution_count": 17,
   "id": "65483b9c",
   "metadata": {},
   "outputs": [
    {
     "name": "stdout",
     "output_type": "stream",
     "text": [
      "[[0. 0. 0.]\n",
      " [0. 0. 0.]\n",
      " [0. 0. 0.]]\n",
      "[[1. 1. 1.]\n",
      " [1. 1. 1.]\n",
      " [1. 1. 1.]]\n"
     ]
    }
   ],
   "source": [
    "#Array  of Zeros\n",
    "zeros_array = np.zeros((3,3))\n",
    "print(zeros_array)\n",
    "\n",
    "\n",
    "#Array of ones\n",
    "ones_array = np.ones((3,3))\n",
    "print(ones_array)\n"
   ]
  },
  {
   "cell_type": "code",
   "execution_count": 18,
   "id": "30cd0dac",
   "metadata": {},
   "outputs": [
    {
     "name": "stdout",
     "output_type": "stream",
     "text": [
      "[[1. 0. 0.]\n",
      " [0. 1. 0.]\n",
      " [0. 0. 1.]]\n"
     ]
    }
   ],
   "source": [
    "#Indentity matrix\n",
    "idn_matrix=np.eye(3)\n",
    "print(idn_matrix)"
   ]
  },
  {
   "cell_type": "code",
   "execution_count": 19,
   "id": "2fd139c1",
   "metadata": {},
   "outputs": [],
   "source": [
    "#Create  a random matrix with values 0 and 1\n",
    "rows=5\n",
    "cols=5\n",
    "random_matrix = np.random .rand()"
   ]
  },
  {
   "cell_type": "markdown",
   "id": "d4e494b7",
   "metadata": {},
   "source": [
    "FETCHING ARRAY OF INDEXES"
   ]
  },
  {
   "cell_type": "code",
   "execution_count": 24,
   "id": "1ea16cae",
   "metadata": {},
   "outputs": [
    {
     "name": "stdout",
     "output_type": "stream",
     "text": [
      "3\n",
      "66\n"
     ]
    }
   ],
   "source": [
    "#array indexing...\n",
    "arr=np.array([1,2,3,4])\n",
    "print(arr[2])\n",
    "\n",
    "#\n",
    "arr2D = np.array([[11,22,33],[44,55,66],[77,88,99]])\n",
    "print(arr2D[1,2])"
   ]
  },
  {
   "cell_type": "code",
   "execution_count": 27,
   "id": "294b52e2",
   "metadata": {},
   "outputs": [
    {
     "name": "stdout",
     "output_type": "stream",
     "text": [
      "[44 55 66]\n",
      "[22 55 88]\n",
      "[[22 33]\n",
      " [55 66]\n",
      " [88 99]]\n"
     ]
    }
   ],
   "source": [
    "print(arr2D[1]) #fetch the first row..\n",
    "print(arr2D[:,1]) #fetch the first col..\n",
    "print(arr2D[:,(1,2)])  #fetch from oth row to 1st row..."
   ]
  },
  {
   "cell_type": "code",
   "execution_count": 31,
   "id": "4e81bd78",
   "metadata": {},
   "outputs": [
    {
     "name": "stdout",
     "output_type": "stream",
     "text": [
      "The array: [[ 1  2 30]\n",
      " [10 15  4]\n",
      " [11 22 33]]\n",
      "The maximum elements of columns: [11 22 33]\n",
      "The minimum element of rows [ 1  4 11]\n",
      "The average element of rows [11.          9.66666667 22.        ]\n",
      "The sum of all rows [33 29 66]\n"
     ]
    }
   ],
   "source": [
    "import numpy as np\n",
    "a = np.array([[1,2,30],[10,15,4],[11,22,33]])\n",
    "print(\"The array:\" ,a)\n",
    "print(\"The maximum elements of columns:\",a.max(axis = 0 ))\n",
    "print(\"The minimum element of rows\",a.min(axis =1))\n",
    "print(\"The average element of rows\",a.mean(axis =1))\n",
    "print(\"The sum of all rows\",a.sum(axis =1))"
   ]
  },
  {
   "cell_type": "code",
   "execution_count": 32,
   "id": "a860a500",
   "metadata": {},
   "outputs": [
    {
     "name": "stdout",
     "output_type": "stream",
     "text": [
      "[[ 1  2 30]\n",
      " [10 15  4]\n",
      " [11 22 33]]\n",
      "[ 7.33333333 13.         22.33333333]\n"
     ]
    }
   ],
   "source": [
    "#Normalize the matrix...\n",
    "colMean = np.mean(a,axis=0)\n",
    "print (a)\n",
    "print(colMean)"
   ]
  },
  {
   "cell_type": "code",
   "execution_count": 33,
   "id": "e631cab2",
   "metadata": {},
   "outputs": [],
   "source": [
    "#Substract"
   ]
  },
  {
   "cell_type": "code",
   "execution_count": 34,
   "id": "637a2df8",
   "metadata": {},
   "outputs": [],
   "source": [
    "#Iterative 2D array\n",
    "arr2D=np.array([[1,2,3,4],[11,22,33,44],[99,88,90,44]])"
   ]
  },
  {
   "cell_type": "code",
   "execution_count": 49,
   "id": "2b3cc8fe",
   "metadata": {},
   "outputs": [
    {
     "name": "stdout",
     "output_type": "stream",
     "text": [
      "[[3 2]\n",
      " [4 7]]\n",
      "[[1 0]\n",
      " [0 2]]\n",
      "[[3 2]\n",
      " [4 7]]\n",
      "[[ 4  6]\n",
      " [10 12]]\n",
      "[[ 2  0]\n",
      " [ 3 12]]\n",
      "[[-2.   1. ]\n",
      " [ 1.5 -0.5]]\n",
      "[[1 3]\n",
      " [2 4]]\n"
     ]
    }
   ],
   "source": [
    "#Matrix opeartion using numpy\n",
    "import numpy as np\n",
    "\n",
    "#Define mtarices\n",
    "A=np.array([[1,2],\n",
    "          [3,4]])\n",
    "B=np.array([[2,0],\n",
    "          [1,3]])\n",
    "#Matrix opeartions\n",
    "C=A +B\n",
    "D=A-B\n",
    "M=A+B\n",
    "E= A @ B\n",
    "J= A*B\n",
    "F=np.dot(A,B)\n",
    "G=A.T #np.transpose(A)\n",
    "H=np.linalg.inv(A)\n",
    "det_A = np.linalg.det(A)\n",
    "#eigenvalues,eignvectors =np.linalg.elg(A)\n",
    "U,s,Vt = np.linalg.svd(A)\n",
    "b=np.array([1,2])\n",
    "x=np.linalg.solve(A,b)\n",
    "I = np.eye(2)\n",
    "D=np.diag([1,2])\n",
    "\n",
    "#print results\n",
    "print(C)\n",
    "print(D)\n",
    "print(M)\n",
    "print(E)\n",
    "print(J)\n",
    "print(H)\n",
    "print(G)"
   ]
  },
  {
   "cell_type": "markdown",
   "id": "869c0617",
   "metadata": {},
   "source": [
    "Numpy and Linear Algebra"
   ]
  },
  {
   "cell_type": "code",
   "execution_count": 53,
   "id": "bb2cd383",
   "metadata": {},
   "outputs": [
    {
     "name": "stdout",
     "output_type": "stream",
     "text": [
      "Rank of A : 3\n"
     ]
    }
   ],
   "source": [
    "#Importing numpy as np\n",
    "import numpy as np\n",
    "A = np.array([[6,1,1],\n",
    "            [4,3,-1],\n",
    "            [2,8,7]])\n",
    "\n",
    "#Rank of the matrix\n",
    "print(\"Rank of A :\",np.linalg.matrix_rank(A))\n",
    "\n",
    "#Traces"
   ]
  },
  {
   "cell_type": "markdown",
   "id": "f43f12a0",
   "metadata": {},
   "source": [
    "Implementation of KNN algorithm"
   ]
  },
  {
   "cell_type": "code",
   "execution_count": 59,
   "id": "4fd79600",
   "metadata": {},
   "outputs": [],
   "source": [
    "#Create a numpy matrix ..data set ...\n",
    "A = np.array([[1,4,5,4],\n",
    "              [5,8,9,14],\n",
    "              [6,7,11,13],\n",
    "              [1,4,5,3],\n",
    "              [5,8,9,14],\n",
    "              [4,7,8,13],\n",
    "              [1,4,6,4],\n",
    "              [5,5,4,5],\n",
    "              [5,8,9,14],\n",
    "              [6,7,11,12]])\n",
    "class_level = [1,2,2,1,2,2,1,1,2,2] #Assosiated class level\n",
    "row,col = A . shape"
   ]
  },
  {
   "cell_type": "code",
   "execution_count": 1,
   "id": "7e224791",
   "metadata": {},
   "outputs": [],
   "source": [
    "import numpy as np\n",
    "import math\n",
    "#compute the modulation distance..\n",
    "def distance(x,y):\n",
    "    sum=0.0\n",
    "    for i in range(len(x)):\n",
    "        sum=sum + (x[i] - y[i]) * (x[i] - y[i])\n",
    "        return math.sqrt(sum)"
   ]
  },
  {
   "cell_type": "code",
   "execution_count": 2,
   "id": "e800337b",
   "metadata": {},
   "outputs": [],
   "source": [
    "import numpy as np\n",
    "\n",
    "def distance(a, b):\n",
    "    return np.linalg.norm(a - b)  # Euclidean distance function\n",
    "\n",
    "def knn_classification(A, new_sample, k, class_labels):\n",
    "    # A is the dataset, new_sample is the point to classify, k is the number of neighbors\n",
    "    rows, cols = A.shape\n",
    "\n",
    "    # Get the distance from all samples of the dataset and store in d\n",
    "    distances = []\n",
    "    for i in range(rows):\n",
    "        dist = distance(new_sample, A[i, :-1])  # Exclude the class label column\n",
    "        distances.append(dist)\n",
    "    \n",
    "    # Print the distances (optional)\n",
    "    print(\"The distances from all points are:\\n\", distances)\n",
    "\n",
    "    # Get the indices of the k-nearest neighbors (sorted by distance)\n",
    "    index = np.argsort(distances)\n",
    "    print(\"Sorted indices:\\n\", index)\n",
    "\n",
    "    # Count the occurrences of class labels among the k-nearest neighbors\n",
    "    count_class_1 = 0\n",
    "    count_class_2 = 0\n",
    "\n",
    "    for i in range(k):\n",
    "        # Check the class of the nearest neighbors\n",
    "        if class_labels[index[i]] == 1:\n",
    "            count_class_1 += 1\n",
    "        else:\n",
    "            count_class_2 += 1\n",
    "    \n",
    "    # Return the class with the majority votes\n",
    "    if count_class_1 > count_class_2:\n",
    "        return 1\n",
    "    else:\n",
    "        return 2\n"
   ]
  },
  {
   "cell_type": "code",
   "execution_count": null,
   "id": "d88fb744",
   "metadata": {},
   "outputs": [],
   "source": [
    "#test the model\n",
    "sample_1 = [1,4,5,4] #new sample..\n"
   ]
  }
 ],
 "metadata": {
  "kernelspec": {
   "display_name": "Python 3 (ipykernel)",
   "language": "python",
   "name": "python3"
  },
  "language_info": {
   "codemirror_mode": {
    "name": "ipython",
    "version": 3
   },
   "file_extension": ".py",
   "mimetype": "text/x-python",
   "name": "python",
   "nbconvert_exporter": "python",
   "pygments_lexer": "ipython3",
   "version": "3.9.12"
  }
 },
 "nbformat": 4,
 "nbformat_minor": 5
}
