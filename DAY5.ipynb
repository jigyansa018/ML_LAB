{
 "cells": [
  {
   "cell_type": "code",
   "execution_count": 3,
   "id": "9b96aba9",
   "metadata": {},
   "outputs": [
    {
     "name": "stdout",
     "output_type": "stream",
     "text": [
      "33.0\n"
     ]
    }
   ],
   "source": [
    "#Def of fun\n",
    "def fun(ls):\n",
    "    total_sum = 0  # Initialize sum\n",
    "    for i in ls:\n",
    "        total_sum += i  # Add each element to the total_sum\n",
    "    avg = total_sum / len(ls)  # Calculate average after the loop\n",
    "    return avg\n",
    "\n",
    "# Call the function\n",
    "l = [11, 22, 33, 44, 55]\n",
    "res = fun(l)\n",
    "print(res)\n"
   ]
  },
  {
   "cell_type": "code",
   "execution_count": 6,
   "id": "012c8992",
   "metadata": {},
   "outputs": [
    {
     "name": "stdout",
     "output_type": "stream",
     "text": [
      "a = 11 b = 20\n",
      "a = 11 b = 13\n"
     ]
    }
   ],
   "source": [
    "# Define the function with a default argument\n",
    "def fun(a, b=20):\n",
    "    print(\"a =\", a, \"b =\", b)\n",
    "\n",
    "# Call the function with only the first argument (b takes the default value)\n",
    "fun(11)\n",
    "\n",
    "# Call the function with both arguments specified\n",
    "fun(11, 13)\n"
   ]
  },
  {
   "cell_type": "code",
   "execution_count": 7,
   "id": "ffef9c1d",
   "metadata": {},
   "outputs": [],
   "source": [
    "#Call by reference \n",
    "#Keyword argument\n",
    "#Keyword arguments are Linked to the arguments of a call function..."
   ]
  },
  {
   "cell_type": "code",
   "execution_count": 26,
   "id": "9caa654c",
   "metadata": {},
   "outputs": [
    {
     "name": "stdout",
     "output_type": "stream",
     "text": [
      "33\n"
     ]
    }
   ],
   "source": [
    "#Def of fun..\n",
    "def fun(a,b):\n",
    "    c=a+b\n",
    "    return c\n",
    "\n",
    "#call the fun...\n",
    "res=fun(11,22)\n",
    "print(res)"
   ]
  },
  {
   "cell_type": "code",
   "execution_count": 13,
   "id": "1633747b",
   "metadata": {},
   "outputs": [
    {
     "name": "stdout",
     "output_type": "stream",
     "text": [
      "a = 33 b = 11\n"
     ]
    }
   ],
   "source": [
    "#Keyword arguments\n",
    "# Define the function\n",
    "def fun(a, b):\n",
    "    print(\"a =\", a, \"b =\", b)\n",
    "\n",
    "# Call the function using keyword arguments\n",
    "fun(b=11, a=33)\n"
   ]
  },
  {
   "cell_type": "code",
   "execution_count": 10,
   "id": "0a2290ff",
   "metadata": {},
   "outputs": [],
   "source": [
    "#Required arguments"
   ]
  },
  {
   "cell_type": "code",
   "execution_count": 14,
   "id": "e86447cc",
   "metadata": {},
   "outputs": [
    {
     "name": "stdout",
     "output_type": "stream",
     "text": [
      "11, 22, \n",
      "11, 22, 33, 44, 55.5, \n"
     ]
    }
   ],
   "source": [
    "#Variable length arguments\n",
    "# Define the function with variable-length arguments\n",
    "def fun(*args_list):\n",
    "    for i in args_list:\n",
    "        print(i, end=', ')\n",
    "    print()  # Move to the next line after printing all arguments\n",
    "\n",
    "# Call the function with different numbers of arguments\n",
    "fun(11, 22)\n",
    "fun(11, 22, 33, 44, 55.5)\n"
   ]
  },
  {
   "cell_type": "code",
   "execution_count": 19,
   "id": "aa931f35",
   "metadata": {},
   "outputs": [
    {
     "name": "stdout",
     "output_type": "stream",
     "text": [
      "11\n",
      "call fun\n",
      "11\n",
      "22\n",
      "44\n",
      "call fun\n"
     ]
    }
   ],
   "source": [
    "# Define the function with variable-length arguments\n",
    "def fun(*v):\n",
    "    for i in v:\n",
    "        print(i)\n",
    "    print(\"call fun\")\n",
    "\n",
    "# Call the function with different numbers of arguments\n",
    "fun(11)\n",
    "fun(11, 22, 44)\n"
   ]
  },
  {
   "cell_type": "code",
   "execution_count": 22,
   "id": "ac46c0d8",
   "metadata": {},
   "outputs": [
    {
     "name": "stdout",
     "output_type": "stream",
     "text": [
      "120\n"
     ]
    }
   ],
   "source": [
    "def fact(n):\n",
    "    if n == 0:\n",
    "        return 1  # Base case: factorial of 0 is 1\n",
    "    return n * fact(n - 1)  # Recursive case\n",
    "\n",
    "# Call the function with 5 and print the result\n",
    "val = fact(5)\n",
    "print(val)\n"
   ]
  },
  {
   "cell_type": "code",
   "execution_count": 23,
   "id": "11a1e92a",
   "metadata": {},
   "outputs": [
    {
     "name": "stdout",
     "output_type": "stream",
     "text": [
      "3\n"
     ]
    }
   ],
   "source": [
    "#GCD of two no.\n",
    "def GCD(a,b):\n",
    "    if(b==0):\n",
    "        return a \n",
    "    return GCD (b,a%b)\n",
    "a=6\n",
    "b=9\n",
    "gcd=GCD(a,b)\n",
    "print(gcd)\n"
   ]
  },
  {
   "cell_type": "markdown",
   "id": "f8e5be3a",
   "metadata": {},
   "source": [
    "###FUNCTION"
   ]
  },
  {
   "cell_type": "code",
   "execution_count": 2,
   "id": "f3ab5e07",
   "metadata": {},
   "outputs": [
    {
     "name": "stdout",
     "output_type": "stream",
     "text": [
      "C:\\Users\\DELL\\OneDrive\\Desktop\\ML LAB\n"
     ]
    }
   ],
   "source": [
    "import os\n",
    "print(os.getcwd())"
   ]
  },
  {
   "cell_type": "code",
   "execution_count": 7,
   "id": "d85ec92b",
   "metadata": {},
   "outputs": [],
   "source": [
    "import My_Cal"
   ]
  },
  {
   "cell_type": "code",
   "execution_count": 8,
   "id": "04564b39",
   "metadata": {},
   "outputs": [],
   "source": [
    "v=My_Cal.add(10,20)"
   ]
  },
  {
   "cell_type": "code",
   "execution_count": 9,
   "id": "c275f01f",
   "metadata": {},
   "outputs": [
    {
     "name": "stdout",
     "output_type": "stream",
     "text": [
      "30\n"
     ]
    }
   ],
   "source": [
    "print(v)"
   ]
  },
  {
   "cell_type": "code",
   "execution_count": 11,
   "id": "c1a748d3",
   "metadata": {},
   "outputs": [],
   "source": [
    "from Package import my_Calculator"
   ]
  },
  {
   "cell_type": "code",
   "execution_count": 12,
   "id": "a1af1719",
   "metadata": {},
   "outputs": [],
   "source": [
    "v=my_Calculator.add(22,33)"
   ]
  },
  {
   "cell_type": "code",
   "execution_count": 13,
   "id": "2da88771",
   "metadata": {},
   "outputs": [
    {
     "name": "stdout",
     "output_type": "stream",
     "text": [
      "55\n"
     ]
    }
   ],
   "source": [
    "print(v)"
   ]
  },
  {
   "cell_type": "code",
   "execution_count": 14,
   "id": "7534c9ea",
   "metadata": {},
   "outputs": [],
   "source": [
    "from Package import init"
   ]
  },
  {
   "cell_type": "code",
   "execution_count": 17,
   "id": "44341033",
   "metadata": {},
   "outputs": [
    {
     "ename": "AttributeError",
     "evalue": "module 'Package.init' has no attribute 'add'",
     "output_type": "error",
     "traceback": [
      "\u001b[1;31m---------------------------------------------------------------------------\u001b[0m",
      "\u001b[1;31mAttributeError\u001b[0m                            Traceback (most recent call last)",
      "Input \u001b[1;32mIn [17]\u001b[0m, in \u001b[0;36m<cell line: 1>\u001b[1;34m()\u001b[0m\n\u001b[1;32m----> 1\u001b[0m v\u001b[38;5;241m=\u001b[39m\u001b[43minit\u001b[49m\u001b[38;5;241;43m.\u001b[39;49m\u001b[43madd\u001b[49m(\u001b[38;5;241m10\u001b[39m,\u001b[38;5;241m20\u001b[39m)\n",
      "\u001b[1;31mAttributeError\u001b[0m: module 'Package.init' has no attribute 'add'"
     ]
    }
   ],
   "source": [
    "v=init.add(10,20)"
   ]
  },
  {
   "cell_type": "code",
   "execution_count": null,
   "id": "55979e3b",
   "metadata": {},
   "outputs": [],
   "source": []
  }
 ],
 "metadata": {
  "kernelspec": {
   "display_name": "Python 3 (ipykernel)",
   "language": "python",
   "name": "python3"
  },
  "language_info": {
   "codemirror_mode": {
    "name": "ipython",
    "version": 3
   },
   "file_extension": ".py",
   "mimetype": "text/x-python",
   "name": "python",
   "nbconvert_exporter": "python",
   "pygments_lexer": "ipython3",
   "version": "3.9.12"
  }
 },
 "nbformat": 4,
 "nbformat_minor": 5
}
