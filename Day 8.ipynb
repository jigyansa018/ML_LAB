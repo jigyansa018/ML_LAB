{
 "cells": [
  {
   "cell_type": "markdown",
   "id": "1235722d",
   "metadata": {},
   "source": [
    "#IMPLEMENTATION OF KNN ALGORITHM"
   ]
  },
  {
   "cell_type": "code",
   "execution_count": 10,
   "id": "17938dcd",
   "metadata": {},
   "outputs": [],
   "source": [
    "#Step 1...\n",
    "#Load the dataset\n",
    "import pandas as pd\n",
    "\n",
    "df=pd.read_csv"
   ]
  },
  {
   "cell_type": "code",
   "execution_count": 2,
   "id": "e79e851b",
   "metadata": {},
   "outputs": [],
   "source": [
    "#get y and x\n"
   ]
  },
  {
   "cell_type": "code",
   "execution_count": 3,
   "id": "8fbcc00a",
   "metadata": {},
   "outputs": [],
   "source": [
    "#train test split...."
   ]
  },
  {
   "cell_type": "code",
   "execution_count": 7,
   "id": "2885a518",
   "metadata": {},
   "outputs": [
    {
     "name": "stdout",
     "output_type": "stream",
     "text": [
      "<class 'numpy.ndarray'>\n",
      "2 4\n"
     ]
    }
   ],
   "source": [
    "l=[[1,2,3,4] , [1,2,3,14]]\n",
    "import numpy as np\n",
    "v1=np.array(l)\n",
    "print(type(v1))\n",
    "row,col = v1.shape\n",
    "print(row,col)"
   ]
  },
  {
   "cell_type": "code",
   "execution_count": 12,
   "id": "76a4877b",
   "metadata": {},
   "outputs": [
    {
     "name": "stdout",
     "output_type": "stream",
     "text": [
      "Sample 0: Predicted Class = Setosa, Actual Class = Setosa\n",
      "Sample 1: Predicted Class = Setosa, Actual Class = Setosa\n",
      "Sample 2: Predicted Class = Virginica, Actual Class = Virginica\n",
      "Sample 3: Predicted Class = Setosa, Actual Class = Setosa\n",
      "Sample 4: Predicted Class = Setosa, Actual Class = Setosa\n",
      "Sample 5: Predicted Class = Setosa, Actual Class = Setosa\n",
      "Sample 6: Predicted Class = Setosa, Actual Class = Setosa\n",
      "Sample 7: Predicted Class = Virginica, Actual Class = Virginica\n",
      "Sample 8: Predicted Class = Virginica, Actual Class = Virginica\n",
      "Sample 9: Predicted Class = Virginica, Actual Class = Virginica\n",
      "Sample 10: Predicted Class = Setosa, Actual Class = Setosa\n",
      "Sample 11: Predicted Class = Virginica, Actual Class = Virginica\n",
      "Sample 12: Predicted Class = Virginica, Actual Class = Virginica\n",
      "Sample 13: Predicted Class = Virginica, Actual Class = Virginica\n",
      "Sample 14: Predicted Class = Versicolor, Actual Class = Virginica\n",
      "Sample 15: Predicted Class = Setosa, Actual Class = Setosa\n",
      "Sample 16: Predicted Class = Virginica, Actual Class = Virginica\n",
      "Sample 17: Predicted Class = Virginica, Actual Class = Virginica\n",
      "Sample 18: Predicted Class = Setosa, Actual Class = Setosa\n",
      "Sample 19: Predicted Class = Versicolor, Actual Class = Versicolor\n",
      "Sample 20: Predicted Class = Versicolor, Actual Class = Versicolor\n",
      "Sample 21: Predicted Class = Versicolor, Actual Class = Versicolor\n",
      "Sample 22: Predicted Class = Virginica, Actual Class = Virginica\n",
      "Sample 23: Predicted Class = Versicolor, Actual Class = Versicolor\n",
      "Sample 24: Predicted Class = Setosa, Actual Class = Setosa\n",
      "Sample 25: Predicted Class = Virginica, Actual Class = Virginica\n",
      "Sample 26: Predicted Class = Versicolor, Actual Class = Versicolor\n",
      "Sample 27: Predicted Class = Versicolor, Actual Class = Versicolor\n",
      "Sample 28: Predicted Class = Setosa, Actual Class = Setosa\n",
      "Sample 29: Predicted Class = Versicolor, Actual Class = Versicolor\n",
      "Sample 30: Predicted Class = Versicolor, Actual Class = Versicolor\n",
      "Sample 31: Predicted Class = Versicolor, Actual Class = Versicolor\n",
      "Sample 32: Predicted Class = Versicolor, Actual Class = Virginica\n",
      "Sample 33: Predicted Class = Virginica, Actual Class = Virginica\n",
      "Sample 34: Predicted Class = Setosa, Actual Class = Setosa\n",
      "Sample 35: Predicted Class = Virginica, Actual Class = Virginica\n",
      "Sample 36: Predicted Class = Setosa, Actual Class = Setosa\n",
      "Sample 37: Predicted Class = Setosa, Actual Class = Setosa\n",
      "Sample 38: Predicted Class = Versicolor, Actual Class = Versicolor\n",
      "Sample 39: Predicted Class = Setosa, Actual Class = Setosa\n",
      "Sample 40: Predicted Class = Setosa, Actual Class = Setosa\n",
      "Sample 41: Predicted Class = Versicolor, Actual Class = Versicolor\n",
      "Sample 42: Predicted Class = Setosa, Actual Class = Setosa\n",
      "Sample 43: Predicted Class = Versicolor, Actual Class = Versicolor\n",
      "Sample 44: Predicted Class = Versicolor, Actual Class = Versicolor\n",
      "Sample 45: Predicted Class = Setosa, Actual Class = Setosa\n",
      "Sample 46: Predicted Class = Virginica, Actual Class = Virginica\n",
      "Sample 47: Predicted Class = Versicolor, Actual Class = Versicolor\n",
      "Sample 48: Predicted Class = Virginica, Actual Class = Virginica\n",
      "Sample 49: Predicted Class = Setosa, Actual Class = Setosa\n",
      "Sample 50: Predicted Class = Setosa, Actual Class = Setosa\n",
      "Sample 51: Predicted Class = Versicolor, Actual Class = Versicolor\n",
      "Sample 52: Predicted Class = Virginica, Actual Class = Virginica\n"
     ]
    }
   ],
   "source": [
    "#KNN CLASSIFICATION\n",
    "from sklearn.model_selection import train_test_split\n",
    "import pandas as pd\n",
    "import numpy as np\n",
    "import math\n",
    "\n",
    "df = pd.read_csv('iris.csv')\n",
    "\n",
    "y = df['variety'].values\n",
    "x = df.drop('variety', axis=1).values\n",
    "\n",
    "x_train, x_test, y_train, y_test = train_test_split(x, y, test_size=0.35, random_state=45)\n",
    "\n",
    "A = np.array(x_train)\n",
    "class_level = np.array(y_train)\n",
    "\n",
    "row, col = A.shape\n",
    "\n",
    "def distance(x, y):\n",
    "    sum = 0.0\n",
    "    for i in range(len(x)):\n",
    "        sum += (x[i] - y[i]) * (x[i] - y[i])\n",
    "    return math.sqrt(sum)\n",
    "\n",
    "def knn(A, new_sample, k):\n",
    "    row, col = A.shape\n",
    "    d = []\n",
    "    for i in range(row):\n",
    "        dis = distance(new_sample, A[i])\n",
    "        d.append(dis)\n",
    "    \n",
    "    index = np.argsort(d)\n",
    "    \n",
    "    ctr1 = 0\n",
    "    ctr2 = 0\n",
    "    ctr3 = 0\n",
    "    \n",
    "    for i in range(k):\n",
    "        if class_level[index[i]] == 'Setosa':\n",
    "            ctr1 += 1\n",
    "        elif class_level[index[i]] == 'Versicolor':\n",
    "            ctr2 += 1\n",
    "        else:\n",
    "            ctr3 += 1\n",
    "    \n",
    "    m = max(ctr1, ctr2, ctr3)\n",
    "    \n",
    "    if m == ctr1:\n",
    "        return \"Setosa\"\n",
    "    elif m == ctr2:\n",
    "        return \"Versicolor\"\n",
    "    else:\n",
    "        return \"Virginica\"\n",
    "\n",
    "predictions = []\n",
    "for i in range(len(x_test)):\n",
    "    new_sample = x_test[i]\n",
    "    predicted_class = knn(A, new_sample, 5)\n",
    "    predictions.append(predicted_class)\n",
    "\n",
    "for i in range(len(predictions)):\n",
    "    print(f\"Sample {i}: Predicted Class = {predictions[i]}, Actual Class = {y_test[i]}\")"
   ]
  },
  {
   "cell_type": "code",
   "execution_count": null,
   "id": "1b93019f",
   "metadata": {},
   "outputs": [],
   "source": []
  }
 ],
 "metadata": {
  "kernelspec": {
   "display_name": "Python 3 (ipykernel)",
   "language": "python",
   "name": "python3"
  },
  "language_info": {
   "codemirror_mode": {
    "name": "ipython",
    "version": 3
   },
   "file_extension": ".py",
   "mimetype": "text/x-python",
   "name": "python",
   "nbconvert_exporter": "python",
   "pygments_lexer": "ipython3",
   "version": "3.9.12"
  }
 },
 "nbformat": 4,
 "nbformat_minor": 5
}
