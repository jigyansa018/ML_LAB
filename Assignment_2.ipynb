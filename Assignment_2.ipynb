{
 "cells": [
  {
   "cell_type": "markdown",
   "id": "c1553fcc",
   "metadata": {},
   "source": [
    "# Assignment2"
   ]
  },
  {
   "cell_type": "code",
   "execution_count": 1,
   "id": "cbcbb209",
   "metadata": {},
   "outputs": [
    {
     "name": "stdout",
     "output_type": "stream",
     "text": [
      "[500, 400, 300, 200, 100]\n"
     ]
    }
   ],
   "source": [
    "#Q1.\n",
    "aLsit = [100, 200, 300, 400, 500]\n",
    "aLsit.sort(reverse=True)\n",
    "print(aLsit)"
   ]
  },
  {
   "cell_type": "code",
   "execution_count": 2,
   "id": "7b117b29",
   "metadata": {},
   "outputs": [
    {
     "name": "stdout",
     "output_type": "stream",
     "text": [
      "['My', 'name', 'is', 'Kelly']\n"
     ]
    }
   ],
   "source": [
    "#Q2.\n",
    "list1 = [\"M\", \"na\", \"i\", \"Ke\"] \n",
    "list2 = [\"y\", \"me\", \"s\", \"lly\"]\n",
    "concat=[]\n",
    "for i in range(len(list1)):\n",
    "    concat.append(list1[i] + list2[i])\n",
    "print(concat)"
   ]
  },
  {
   "cell_type": "code",
   "execution_count": 3,
   "id": "35c3d306",
   "metadata": {},
   "outputs": [
    {
     "name": "stdout",
     "output_type": "stream",
     "text": [
      "[1, 4, 9, 16, 25, 36, 49]\n"
     ]
    }
   ],
   "source": [
    "#Q3.\n",
    "aList = [1, 2, 3, 4, 5, 6, 7]\n",
    "squaredList = [x ** 2 for x in aList]\n",
    "\n",
    "print(squaredList)\n"
   ]
  },
  {
   "cell_type": "code",
   "execution_count": 4,
   "id": "aa04bb92",
   "metadata": {},
   "outputs": [
    {
     "name": "stdout",
     "output_type": "stream",
     "text": [
      "10 400\n",
      "20 300\n",
      "30 200\n",
      "40 100\n"
     ]
    }
   ],
   "source": [
    "#Q4.\n",
    "list1 = [10, 20, 30, 40]\n",
    "list2 = [100, 200, 300, 400]\n",
    "\n",
    "for item1, item2 in zip(list1, list2[::-1]):\n",
    "    print(item1, item2)"
   ]
  },
  {
   "cell_type": "code",
   "execution_count": 5,
   "id": "0352a2c0",
   "metadata": {},
   "outputs": [
    {
     "name": "stdout",
     "output_type": "stream",
     "text": [
      "[10, 20, [300, 400, [5000, 6000, 7000], 500], 30, 40]\n"
     ]
    }
   ],
   "source": [
    "#Q5.\n",
    "list1 = [10, 20, [300, 400, [5000, 6000], 500], 30, 40]\n",
    "list1[2][2].append(7000)\n",
    "print(list1)\n"
   ]
  },
  {
   "cell_type": "code",
   "execution_count": 6,
   "id": "9172be79",
   "metadata": {},
   "outputs": [
    {
     "name": "stdout",
     "output_type": "stream",
     "text": [
      "[5, 10, 15, 200, 25, 50, 20]\n"
     ]
    }
   ],
   "source": [
    "#Q6.\n",
    "list1 = [5, 10, 15, 20, 25, 50, 20]\n",
    "if 20 in list1:\n",
    "    index = list1.index(20)\n",
    "    list1[index] = 200\n",
    "\n",
    "print(list1)\n"
   ]
  },
  {
   "cell_type": "code",
   "execution_count": 7,
   "id": "12fd6215",
   "metadata": {},
   "outputs": [
    {
     "name": "stdout",
     "output_type": "stream",
     "text": [
      "{'Ten': 10, 'Twenty': 20, 'Thirty': 30}\n"
     ]
    }
   ],
   "source": [
    "#Q7.\n",
    "keys = ['Ten', 'Twenty', 'Thirty']\n",
    "values = [10, 20, 30]\n",
    "dictionary = dict(zip(keys, values))\n",
    "\n",
    "print(dictionary)\n"
   ]
  },
  {
   "cell_type": "code",
   "execution_count": 8,
   "id": "57f68fc2",
   "metadata": {},
   "outputs": [
    {
     "name": "stdout",
     "output_type": "stream",
     "text": [
      "{'Ten': 10, 'Twenty': 20, 'Thirty': 30, 'Fourty': 40, 'Fifty': 50}\n"
     ]
    }
   ],
   "source": [
    "#Q8.\n",
    "dict1 = {'Ten': 10, 'Twenty': 20, 'Thirty': 30}\n",
    "dict2 = {'Thirty': 30, 'Fourty': 40, 'Fifty': 50}\n",
    "merged_dict = dict1.copy()\n",
    "merged_dict.update(dict2)\n",
    "\n",
    "print(merged_dict)\n"
   ]
  },
  {
   "cell_type": "code",
   "execution_count": 9,
   "id": "848409ea",
   "metadata": {},
   "outputs": [
    {
     "name": "stdout",
     "output_type": "stream",
     "text": [
      "True\n"
     ]
    }
   ],
   "source": [
    "#Q9.\n",
    "sampleDict = {'a': 100, 'b': 200, 'c': 300}\n",
    "exists = 200 in sampleDict.values()\n",
    "print(exists)\n"
   ]
  },
  {
   "cell_type": "code",
   "execution_count": 13,
   "id": "cae184b4",
   "metadata": {},
   "outputs": [
    {
     "name": "stdout",
     "output_type": "stream",
     "text": [
      "Math\n"
     ]
    }
   ],
   "source": [
    "#Q10.\n",
    "sampleDict = { 'Physics': 82, 'Math': 65, 'History': 75 }\n",
    "min_key = min(sampleDict, key=lambda k: sampleDict[k])\n",
    "\n",
    "print(min_key)\n"
   ]
  },
  {
   "cell_type": "code",
   "execution_count": 14,
   "id": "89744ab0",
   "metadata": {},
   "outputs": [
    {
     "name": "stdout",
     "output_type": "stream",
     "text": [
      "{'emp1': {'name': 'Jhon', 'salary': 7500}, 'emp2': {'name': 'Emma', 'salary': 8000}, 'emp3': {'name': 'Brad', 'salary': 8500}}\n"
     ]
    }
   ],
   "source": [
    "#Q11\n",
    "sampleDict = {\n",
    "     'emp1': {'name': 'Jhon', 'salary': 7500},\n",
    "     'emp2': {'name': 'Emma', 'salary': 8000},\n",
    "     'emp3': {'name': 'Brad', 'salary': 6500}\n",
    "}\n",
    "\n",
    "sampleDict['emp3']['salary'] = 8500\n",
    "\n",
    "print(sampleDict)\n"
   ]
  },
  {
   "cell_type": "code",
   "execution_count": 16,
   "id": "1a0044ac",
   "metadata": {},
   "outputs": [
    {
     "name": "stdout",
     "output_type": "stream",
     "text": [
      "(50, 40, 30, 20, 10)\n"
     ]
    }
   ],
   "source": [
    "#Q12\n",
    "aTuple = (10, 20, 30, 40, 50)\n",
    "aTuple = aTuple[::-1]\n",
    "print(aTuple)\n",
    "\n",
    "\n"
   ]
  },
  {
   "cell_type": "code",
   "execution_count": 18,
   "id": "913048d9",
   "metadata": {},
   "outputs": [
    {
     "name": "stdout",
     "output_type": "stream",
     "text": [
      "(11, 22)\n",
      "(99, 88)\n"
     ]
    }
   ],
   "source": [
    "#Q13\n",
    "tuple1 = (11, 22)\n",
    "tuple2 = (99, 88)\n",
    "tuple1, tuple2 = tuple2, tuple1\n",
    "print(tuple2)\n",
    "print(tuple1)\n",
    "\n"
   ]
  },
  {
   "cell_type": "code",
   "execution_count": 6,
   "id": "c3630526",
   "metadata": {},
   "outputs": [
    {
     "name": "stdout",
     "output_type": "stream",
     "text": [
      "Enter the number of elements in the list: 6\n",
      "Enter element 1: 12\n",
      "Enter element 2: 15\n",
      "Enter element 3: 56\n",
      "Enter element 4: 78\n",
      "Enter element 5: 43\n",
      "Enter element 6: 90\n",
      "Enter the element to search for: 56\n",
      "Element 56 found at position 3\n"
     ]
    }
   ],
   "source": [
    "#Q14\n",
    "N = int(input(\"Enter the number of elements in the list: \"))\n",
    "numbers = []\n",
    "for i in range(N):\n",
    "    num = int(input(f\"Enter element {i+1}: \"))\n",
    "    numbers.append(num)\n",
    "search_element = int(input(\"Enter the element to search for: \"))\n",
    "found = False\n",
    "for i in range(N):\n",
    "    if numbers[i] == search_element:\n",
    "        print(f\"Element {search_element} found at position {i+1}\")\n",
    "        found = True\n",
    "        break\n",
    "\n",
    "if not found:\n",
    "    print(f\"Element {search_element} not found in the list\")\n"
   ]
  },
  {
   "cell_type": "code",
   "execution_count": 7,
   "id": "8f370822",
   "metadata": {},
   "outputs": [
    {
     "name": "stdout",
     "output_type": "stream",
     "text": [
      "Enter a string: Jajpur\n",
      "Number of vowels: 2\n",
      "Number of consonants: 4\n",
      "Number of uppercase characters: 1\n",
      "Number of lowercase characters: 5\n"
     ]
    }
   ],
   "source": [
    "#Q15\n",
    "myString = input(\"Enter a string: \")\n",
    "vowel_count = 0\n",
    "consonant_count = 0\n",
    "uppercase_count = 0\n",
    "lowercase_count = 0\n",
    "vowels = \"aeiouAEIOU\"\n",
    "\n",
    "for char in myString:\n",
    "    if char.isalpha():  # Check if the character is a letter\n",
    "        if char in vowels:  # Check if it is a vowel\n",
    "            vowel_count += 1\n",
    "        else:  # If it's not a vowel, it's a consonant\n",
    "            consonant_count += 1\n",
    "\n",
    "        if char.isupper():  # Check if it is uppercase\n",
    "            uppercase_count += 1\n",
    "        elif char.islower():  # Check if it is lowercase\n",
    "            lowercase_count += 1\n",
    "\n",
    "# Display the counts\n",
    "print(\"Number of vowels:\", vowel_count)\n",
    "print(\"Number of consonants:\", consonant_count)\n",
    "print(\"Number of uppercase characters:\", uppercase_count)\n",
    "print(\"Number of lowercase characters:\", lowercase_count)\n"
   ]
  },
  {
   "cell_type": "code",
   "execution_count": 6,
   "id": "cf504c5c",
   "metadata": {},
   "outputs": [
    {
     "name": "stdout",
     "output_type": "stream",
     "text": [
      "Enter a string: saras\n",
      "The string is a palindrome.\n"
     ]
    }
   ],
   "source": [
    "#Q16\n",
    "s = input(\"Enter a string: \")\n",
    "if s == s[::-1]:\n",
    "    print(\"The string is a palindrome.\")\n",
    "else:\n",
    "    print(\"The string is not a palindrome.\")\n",
    "\n"
   ]
  },
  {
   "cell_type": "code",
   "execution_count": 15,
   "id": "f88c4aa4",
   "metadata": {},
   "outputs": [
    {
     "name": "stdout",
     "output_type": "stream",
     "text": [
      "{'S': 1, 'i': 4, 'l': 1, 'c': 1, 'o': 1, 'n': 2, ' ': 1, 'U': 1, 'v': 1, 'e': 1, 'r': 1, 's': 1, 't': 1, 'y': 1}\n"
     ]
    }
   ],
   "source": [
    "#Q17\n",
    "string = \"Silicon University\"\n",
    "char_count = {}\n",
    "for char in string:\n",
    "    if char in char_count:\n",
    "        char_count[char] += 1\n",
    "    else:\n",
    "        char_count[char] = 1  \n",
    "print(char_count)\n"
   ]
  },
  {
   "cell_type": "code",
   "execution_count": 17,
   "id": "00fe5b0f",
   "metadata": {},
   "outputs": [
    {
     "name": "stdout",
     "output_type": "stream",
     "text": [
      "{'Python': 1, 'was': 1, 'developed': 1, 'by': 1, 'Guido': 1, 'van': 1, 'Rossum': 1}\n"
     ]
    }
   ],
   "source": [
    "#Q18\n",
    "string = \"Python was developed by Guido van Rossum\"\n",
    "words = string.split()\n",
    "word_count = {}\n",
    "for word in words:\n",
    "    if word in word_count:\n",
    "        word_count[word] += 1 \n",
    "    else:\n",
    "        word_count[word] = 1   \n",
    "print(word_count)\n"
   ]
  },
  {
   "cell_type": "code",
   "execution_count": 18,
   "id": "30218852",
   "metadata": {},
   "outputs": [
    {
     "name": "stdout",
     "output_type": "stream",
     "text": [
      "Sorted list: [11, 12, 22, 25, 34, 64, 90]\n"
     ]
    }
   ],
   "source": [
    "#Q19. BUBBLE SORT\n",
    "numbers = [64, 34, 25, 12, 22, 11, 90]\n",
    "n = len(numbers)\n",
    "for i in range(n):\n",
    "    for j in range(0, n-i-1):\n",
    "        if numbers[j] > numbers[j+1]:\n",
    "            numbers[j], numbers[j+1] = numbers[j+1], numbers[j]\n",
    "print(\"Sorted list:\", numbers)\n"
   ]
  },
  {
   "cell_type": "code",
   "execution_count": 1,
   "id": "bdfbbe54",
   "metadata": {},
   "outputs": [
    {
     "name": "stdout",
     "output_type": "stream",
     "text": [
      "Sorted list: [11, 12, 22, 25, 64]\n"
     ]
    }
   ],
   "source": [
    "#Q20.SELECTION SORT\n",
    "numbers = [64, 25, 12, 22, 11]\n",
    "n = len(numbers)\n",
    "for i in range(n):\n",
    "    min_index = i\n",
    "    for j in range(i+1, n):\n",
    "        if numbers[j] < numbers[min_index]:\n",
    "            min_index = j\n",
    "    numbers[i], numbers[min_index] = numbers[min_index], numbers[i]\n",
    "print(\"Sorted list:\", numbers)\n",
    "\n"
   ]
  },
  {
   "cell_type": "code",
   "execution_count": 2,
   "id": "764c50fb",
   "metadata": {},
   "outputs": [
    {
     "name": "stdout",
     "output_type": "stream",
     "text": [
      "Enter a string: Silicon Institute of Technology\n",
      "Reversed words: Technology of Institute Silicon\n"
     ]
    }
   ],
   "source": [
    "#Q21.\n",
    "myString = input(\"Enter a string: \")\n",
    "words = myString.split()  # Split the string into words\n",
    "reversed_words = words[::-1]  # Reverse the order of words\n",
    "reversed_string = ' '.join(reversed_words)  # Join the reversed words back into a string\n",
    "print(\"Reversed words:\", reversed_string)  \n",
    "\n"
   ]
  },
  {
   "cell_type": "code",
   "execution_count": 4,
   "id": "07845658",
   "metadata": {},
   "outputs": [
    {
     "name": "stdout",
     "output_type": "stream",
     "text": [
      "{70, 40, 10, 50, 20, 60, 30}\n"
     ]
    }
   ],
   "source": [
    "#Q22.\n",
    "set1 = {10, 20, 30, 40, 50}\n",
    "set2 = {30, 40, 50, 60, 70}\n",
    "combined_set = set1 | set2\n",
    "print(combined_set)"
   ]
  },
  {
   "cell_type": "code",
   "execution_count": 7,
   "id": "257dde0b",
   "metadata": {},
   "outputs": [
    {
     "name": "stdout",
     "output_type": "stream",
     "text": [
      "{20, 70, 10, 60}\n"
     ]
    }
   ],
   "source": [
    "#Q23.\n",
    "set1 = {10, 20, 30, 40, 50}\n",
    "set2 = {30, 40, 50, 60, 70}\n",
    "result = set1.symmetric_difference(set2)\n",
    "print(result)\n"
   ]
  },
  {
   "cell_type": "code",
   "execution_count": 14,
   "id": "c8d2af85",
   "metadata": {},
   "outputs": [
    {
     "name": "stdout",
     "output_type": "stream",
     "text": [
      "Two sets have items in common\n",
      "{10}\n"
     ]
    }
   ],
   "source": [
    "#Q24.\n",
    "set1 = {10, 20, 30, 40, 50}\n",
    "set2 = {60, 70, 80, 90, 10}\n",
    "\n",
    "if set1.isdisjoint(set2):\n",
    "    print(\"Two sets have no items in common\")\n",
    "else:\n",
    "    print(\"Two sets have items in common\")\n",
    "\n",
    "result = set1.intersection(set2)\n",
    "print(result)\n"
   ]
  },
  {
   "cell_type": "code",
   "execution_count": 5,
   "id": "c5e3730e",
   "metadata": {},
   "outputs": [
    {
     "name": "stdout",
     "output_type": "stream",
     "text": [
      "None\n"
     ]
    }
   ],
   "source": [
    "#Q25.\n",
    "set1 ={10,20,30,40,50}\n",
    "set2 ={30,40,50,60,70}\n",
    "set1=set1.intersection_update(set2)\n",
    "print(set1)\n"
   ]
  }
 ],
 "metadata": {
  "kernelspec": {
   "display_name": "Python 3 (ipykernel)",
   "language": "python",
   "name": "python3"
  },
  "language_info": {
   "codemirror_mode": {
    "name": "ipython",
    "version": 3
   },
   "file_extension": ".py",
   "mimetype": "text/x-python",
   "name": "python",
   "nbconvert_exporter": "python",
   "pygments_lexer": "ipython3",
   "version": "3.9.12"
  }
 },
 "nbformat": 4,
 "nbformat_minor": 5
}
