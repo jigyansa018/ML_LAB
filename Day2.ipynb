{
 "cells": [
  {
   "cell_type": "code",
   "execution_count": 17,
   "id": "e0db00f4",
   "metadata": {},
   "outputs": [
    {
     "name": "stdout",
     "output_type": "stream",
     "text": [
      "[11, 22, 33, 44.6]\n",
      "4\n",
      "44.6\n"
     ]
    }
   ],
   "source": [
    "#list can be modified\n",
    "li=[11,22,33,44.6]\n",
    "print(li)\n",
    "print(len(li))\n",
    "print(li[3])"
   ]
  },
  {
   "cell_type": "code",
   "execution_count": 14,
   "id": "c21bcbd3",
   "metadata": {},
   "outputs": [],
   "source": [
    "#tuple : is read only can't be modified\n",
    "t=(11,22,33,44)"
   ]
  },
  {
   "cell_type": "code",
   "execution_count": 15,
   "id": "4e1cf002",
   "metadata": {},
   "outputs": [
    {
     "name": "stdout",
     "output_type": "stream",
     "text": [
      "{1: 'ram', 2: 'hari', 3: 'shyam'}\n",
      "shyam\n"
     ]
    }
   ],
   "source": [
    "#dictionary\n",
    "d={1:\"ram\",2:\"hari\",3:\"shyam\"}\n",
    "print(d)\n",
    "print(d[3])"
   ]
  },
  {
   "cell_type": "code",
   "execution_count": 11,
   "id": "6c54cd6a",
   "metadata": {},
   "outputs": [
    {
     "name": "stdout",
     "output_type": "stream",
     "text": [
      "{33, 11, 44, 22}\n"
     ]
    }
   ],
   "source": [
    "#set:duplicate element dose not allowed\n",
    "s={11,22,33,44}\n",
    "print(s)"
   ]
  },
  {
   "cell_type": "code",
   "execution_count": 29,
   "id": "7c021fc5",
   "metadata": {},
   "outputs": [
    {
     "name": "stdout",
     "output_type": "stream",
     "text": [
      "[4, 6, 8, 10, 12, 14, 16, 18, 20, 22, 24, 26, 28, 30, 32, 34]\n",
      "[4, 6, 8, 10, 12, 14, 16, 18, 20, 22, 24, 26, 28, 30, 32, 34]\n",
      "[8, 10, 12, 14, 16, 18, 20, 22, 24, 26, 28, 30, 32, 34]\n",
      "[8, 10, 12]\n",
      "[8, 12, 16, 20, 24, 28, 32]\n",
      "34\n",
      "[4, 6, 8, 10, 12, 14, 16, 18, 20, 22, 24, 26, 28, 30, 32]\n",
      "[28, 30, 32]\n",
      "[28, 26, 24, 22]\n",
      "[28, 24]\n",
      "[16, 14, 12, 10]\n"
     ]
    }
   ],
   "source": [
    "#slicing:fetch the elemnt lb to ub-1\n",
    "a=list(range(4,35,2))\n",
    "print(a)\n",
    "print(a[:])\n",
    "# or print(a[::])\n",
    "print(a[2::])\n",
    "#or print(a[2:5])\n",
    "print(a[2:5])\n",
    "#or print(a[2:5])\n",
    "print(a[2:20:2])\n",
    "\n",
    "#Fetch the last element\n",
    "print(a[-1])\n",
    "print(a[:-1])\n",
    "print(a[-4:-1])\n",
    "print(a[-4:-8:-1])\n",
    "print(a[-4:--8:-2])\n",
    "print(a[6:2:-1])"
   ]
  },
  {
   "cell_type": "code",
   "execution_count": 31,
   "id": "11a4e651",
   "metadata": {},
   "outputs": [
    {
     "ename": "TypeError",
     "evalue": "'int' object is not iterable",
     "output_type": "error",
     "traceback": [
      "\u001b[1;31m---------------------------------------------------------------------------\u001b[0m",
      "\u001b[1;31mTypeError\u001b[0m                                 Traceback (most recent call last)",
      "Input \u001b[1;32mIn [31]\u001b[0m, in \u001b[0;36m<cell line: 3>\u001b[1;34m()\u001b[0m\n\u001b[0;32m      1\u001b[0m \u001b[38;5;66;03m#for traversing list\u001b[39;00m\n\u001b[1;32m----> 3\u001b[0m \u001b[38;5;28;01mfor\u001b[39;00m i \u001b[38;5;129;01min\u001b[39;00m \u001b[38;5;241m1\u001b[39m:\n\u001b[0;32m      4\u001b[0m     \u001b[38;5;28mprint\u001b[39m(i,end\u001b[38;5;241m=\u001b[39m\u001b[38;5;124m\"\u001b[39m\u001b[38;5;124m,\u001b[39m\u001b[38;5;124m\"\u001b[39m)\n",
      "\u001b[1;31mTypeError\u001b[0m: 'int' object is not iterable"
     ]
    }
   ],
   "source": [
    "#for traversing list\n",
    "\n",
    "for i in 1:\n",
    "    print(i,end=\",\")"
   ]
  },
  {
   "cell_type": "code",
   "execution_count": 36,
   "id": "fe3378a3",
   "metadata": {},
   "outputs": [
    {
     "ename": "SyntaxError",
     "evalue": "invalid syntax (1658370677.py, line 10)",
     "output_type": "error",
     "traceback": [
      "\u001b[1;36m  Input \u001b[1;32mIn [36]\u001b[1;36m\u001b[0m\n\u001b[1;33m    else:\u001b[0m\n\u001b[1;37m    ^\u001b[0m\n\u001b[1;31mSyntaxError\u001b[0m\u001b[1;31m:\u001b[0m invalid syntax\n"
     ]
    }
   ],
   "source": [
    "#create a list of element and perform linear search\n",
    "\n",
    "li=[10,20,30,40]\n",
    "print(li)\n",
    "i == 0\n",
    "n = int(input(\"Enter the number:\\n\"))\n",
    "for i in list:\n",
    "    if(i==n):\n",
    "        print(\"Number is found\")\n",
    "        else:\n",
    "            print(\"Number is not found\")"
   ]
  },
  {
   "cell_type": "code",
   "execution_count": 1,
   "id": "4d91eb3f",
   "metadata": {},
   "outputs": [
    {
     "name": "stdout",
     "output_type": "stream",
     "text": [
      "Element found at index 3\n"
     ]
    }
   ],
   "source": [
    "#Binary search\n",
    "def binary_search(arr, target):\n",
    "    low = 0\n",
    "    high = len(arr) - 1\n",
    "\n",
    "    while low <= high:\n",
    "        mid = (low + high) // 2\n",
    "\n",
    "        if arr[mid] == target:\n",
    "            return mid\n",
    "        elif arr[mid] > target:\n",
    "            high = mid - 1\n",
    "        else:\n",
    "            low = mid + 1\n",
    "\n",
    "    return -1\n",
    "\n",
    "\n",
    "arr = [2, 4, 6, 8, 10, 12]\n",
    "target = 8\n",
    "\n",
    "index = binary_search(arr, target)\n",
    "\n",
    "if index != -1:\n",
    "    print(\"Element found at index\", index)\n",
    "else:\n",
    "    print(\"Element not found\")\n"
   ]
  },
  {
   "cell_type": "code",
   "execution_count": 38,
   "id": "9ab14b06",
   "metadata": {},
   "outputs": [
    {
     "name": "stdout",
     "output_type": "stream",
     "text": [
      "[0, 1, 4, 9, 16]\n"
     ]
    }
   ],
   "source": [
    "#list\n",
    "li=[x*x for x in range(5)]\n",
    "print(li)"
   ]
  },
  {
   "cell_type": "code",
   "execution_count": 39,
   "id": "fe6ca6b8",
   "metadata": {},
   "outputs": [],
   "source": [
    "#create list comphrehension between m and n\n"
   ]
  },
  {
   "cell_type": "code",
   "execution_count": 44,
   "id": "4c9e20e0",
   "metadata": {},
   "outputs": [
    {
     "name": "stdout",
     "output_type": "stream",
     "text": [
      "[{33, 11, 44, 22}, {33, 11, 44, 22}, {33, 11, 44, 22}, {33, 11, 44, 22}, {33, 11, 44, 22}, {33, 11, 44, 22}, {33, 11, 44, 22}, {33, 11, 44, 22}, {33, 11, 44, 22}]\n"
     ]
    }
   ],
   "source": [
    "#Create a list of even numbers with specific range.\n",
    "number_list  = [s for x in range (1,20) if x%2 == 0 ]\n",
    "print(number_list) "
   ]
  },
  {
   "cell_type": "code",
   "execution_count": 43,
   "id": "78786bd3",
   "metadata": {},
   "outputs": [
    {
     "name": "stdout",
     "output_type": "stream",
     "text": [
      "[1, 0, 1, 0, 1, 0, 1, 0, 1]\n"
     ]
    }
   ],
   "source": [
    "#create a binary list\n",
    "\n",
    "number_list = [x%2 for x in range(1,10)]\n",
    "print(number_list)"
   ]
  },
  {
   "cell_type": "code",
   "execution_count": 45,
   "id": "68acc3b8",
   "metadata": {
    "scrolled": true
   },
   "outputs": [
    {
     "name": "stdout",
     "output_type": "stream",
     "text": [
      "['T', 'i', 'a', 'l', 'o', 'w']\n"
     ]
    }
   ],
   "source": [
    "#Show the first letter of each word :\n",
    "listOfWords = [\"This\",\"is\",\"a\",\"list\",\"of\",\"words\"]\n",
    "items = [word[0] for word in listOfWords]\n",
    "print(items)"
   ]
  },
  {
   "cell_type": "code",
   "execution_count": 48,
   "id": "325295e3",
   "metadata": {
    "scrolled": true
   },
   "outputs": [
    {
     "data": {
      "text/plain": [
       "[(1, 7), (1, 8), (1, 9), (2, 7), (2, 8), (2, 9), (3, 7), (3, 8), (3, 9)]"
      ]
     },
     "execution_count": 48,
     "metadata": {},
     "output_type": "execute_result"
    }
   ],
   "source": [
    "#Combining multiple list in one \n",
    "a=[1,2,3]\n",
    "b=[7,8,9]\n",
    "[(x+y) for (x,y) in zip(a,b)] #parallel iterations\n",
    "[(x,y) for x in a for y in b] # nested iterators"
   ]
  },
  {
   "cell_type": "code",
   "execution_count": 53,
   "id": "5f514b16",
   "metadata": {},
   "outputs": [
    {
     "name": "stdout",
     "output_type": "stream",
     "text": [
      "[10, 20, 30, 40, 50]\n"
     ]
    }
   ],
   "source": [
    "#list of list\n",
    "my_list=[[11,22,33],[44,55,66],[77,88,99]]\n",
    "flattend =[x for temp in my_list for x in temp]\n",
    "#list\n",
    "li=[10,20,30,40,50]\n",
    "print(li) \n",
    "#Flattening a multi-dimensional list\n"
   ]
  },
  {
   "cell_type": "code",
   "execution_count": null,
   "id": "f47dbddb",
   "metadata": {},
   "outputs": [],
   "source": []
  }
 ],
 "metadata": {
  "kernelspec": {
   "display_name": "Python 3 (ipykernel)",
   "language": "python",
   "name": "python3"
  },
  "language_info": {
   "codemirror_mode": {
    "name": "ipython",
    "version": 3
   },
   "file_extension": ".py",
   "mimetype": "text/x-python",
   "name": "python",
   "nbconvert_exporter": "python",
   "pygments_lexer": "ipython3",
   "version": "3.9.12"
  }
 },
 "nbformat": 4,
 "nbformat_minor": 5
}
